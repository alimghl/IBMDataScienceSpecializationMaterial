{
 "cells": [
  {
   "metadata": {
    "id": "3n3ltmfnrqpi",
    "outputId": "a2d4f52a-2fb7-4668-f5f0-fe862aab8eb0",
    "papermill": {
     "duration": 1.489571,
     "end_time": "2020-09-19T06:26:57.168979",
     "exception": false,
     "start_time": "2020-09-19T06:26:55.679408",
     "status": "completed"
    },
    "tags": []
   },
   "cell_type": "markdown",
   "source": [
    "<p style=\"text-align:center\">\n",
    "    <a href=\"https://skills.network/?utm_medium=Exinfluencer&utm_source=Exinfluencer&utm_content=000026UJ&utm_term=10006555&utm_id=NA-SkillsNetwork-Channel-SkillsNetworkCoursesIBMDS0321ENSkillsNetwork865-2023-01-01\">\n",
    "    <img src=\"https://cf-courses-data.s3.us.cloud-object-storage.appdomain.cloud/assets/logos/SN_web_lightmode.png\" width=\"200\" alt=\"Skills Network Logo\"  />\n",
    "    </a>\n",
    "</p>\n"
   ]
  },
  {
   "metadata": {},
   "cell_type": "markdown",
   "source": [
    "# **Launch Sites Locations Analysis with Folium**\n"
   ]
  },
  {
   "metadata": {},
   "cell_type": "markdown",
   "source": [
    "Estimated time needed: **40** minutes\n"
   ]
  },
  {
   "metadata": {},
   "cell_type": "markdown",
   "source": [
    "The launch success rate may depend on many factors such as payload mass, orbit type, and so on. It may also depend on the location and proximities of a launch site, i.e., the initial position of rocket trajectories. Finding an optimal location for building a launch site certainly involves many factors and hopefully we could discover some of the factors by analyzing the existing launch site locations.\n"
   ]
  },
  {
   "metadata": {},
   "cell_type": "markdown",
   "source": [
    "In the previous exploratory data analysis labs, you have visualized the SpaceX launch dataset using `matplotlib` and `seaborn` and discovered some preliminary correlations between the launch site and success rates. In this lab, you will be performing more interactive visual analytics using `Folium`.\n"
   ]
  },
  {
   "metadata": {},
   "cell_type": "markdown",
   "source": [
    "## Objectives\n"
   ]
  },
  {
   "metadata": {},
   "cell_type": "markdown",
   "source": [
    "This lab contains the following tasks:\n",
    "- **TASK 1:** Mark all launch sites on a map\n",
    "- **TASK 2:** Mark the success/failed launches for each site on the map\n",
    "- **TASK 3:** Calculate the distances between a launch site to its proximities\n",
    "\n",
    "After completed the above tasks, you should be able to find some geographical patterns about launch sites.\n"
   ]
  },
  {
   "metadata": {},
   "cell_type": "markdown",
   "source": [
    "Let's first import required Python packages for this lab:\n"
   ]
  },
  {
   "metadata": {},
   "cell_type": "code",
   "source": [
    "!pip3 install folium\n",
    "!pip3 install wget"
   ],
   "execution_count": 1,
   "outputs": [
    {
     "output_type": "stream",
     "text": "Collecting folium\n  Downloading folium-0.14.0-py2.py3-none-any.whl (102 kB)\n\u001B[2K     \u001B[90m━━━━━━━━━━━━━━━━━━━━━━━━━━━━━━━━━━━━━━\u001B[0m \u001B[32m102.3/102.3 kB\u001B[0m \u001B[31m20.5 MB/s\u001B[0m eta \u001B[36m0:00:00\u001B[0m\n\u001B[?25hRequirement already satisfied: requests in /opt/conda/envs/Python-3.10/lib/python3.10/site-packages (from folium) (2.31.0)\nRequirement already satisfied: jinja2>=2.9 in /opt/conda/envs/Python-3.10/lib/python3.10/site-packages (from folium) (3.0.3)\nRequirement already satisfied: numpy in /opt/conda/envs/Python-3.10/lib/python3.10/site-packages (from folium) (1.23.1)\nCollecting branca>=0.6.0\n  Downloading branca-0.6.0-py3-none-any.whl (24 kB)\nRequirement already satisfied: MarkupSafe>=2.0 in /opt/conda/envs/Python-3.10/lib/python3.10/site-packages (from jinja2>=2.9->folium) (2.1.1)\nRequirement already satisfied: charset-normalizer<4,>=2 in /opt/conda/envs/Python-3.10/lib/python3.10/site-packages (from requests->folium) (2.0.4)\nRequirement already satisfied: idna<4,>=2.5 in /opt/conda/envs/Python-3.10/lib/python3.10/site-packages (from requests->folium) (3.3)\nRequirement already satisfied: certifi>=2017.4.17 in /opt/conda/envs/Python-3.10/lib/python3.10/site-packages (from requests->folium) (2023.7.22)\nRequirement already satisfied: urllib3<3,>=1.21.1 in /opt/conda/envs/Python-3.10/lib/python3.10/site-packages (from requests->folium) (1.26.11)\nInstalling collected packages: branca, folium\nSuccessfully installed branca-0.6.0 folium-0.14.0\nCollecting wget\n  Downloading wget-3.2.zip (10 kB)\n  Preparing metadata (setup.py) ... \u001B[?25ldone\n\u001B[?25hBuilding wheels for collected packages: wget\n  Building wheel for wget (setup.py) ... \u001B[?25ldone\n\u001B[?25h  Created wheel for wget: filename=wget-3.2-py3-none-any.whl size=9673 sha256=1883ec52a7e7a1faa3c04709d98726cf191fab46fa14eef879089720e9e6f3bc\n  Stored in directory: /tmp/wsuser/.cache/pip/wheels/8b/f1/7f/5c94f0a7a505ca1c81cd1d9208ae2064675d97582078e6c769\nSuccessfully built wget\nInstalling collected packages: wget\nSuccessfully installed wget-3.2\n",
     "name": "stdout"
    }
   ]
  },
  {
   "metadata": {},
   "cell_type": "code",
   "source": [
    "import folium\n",
    "import wget\n",
    "import pandas as pd"
   ],
   "execution_count": 2,
   "outputs": []
  },
  {
   "metadata": {},
   "cell_type": "code",
   "source": [
    "# Import folium MarkerCluster plugin\n",
    "from folium.plugins import MarkerCluster\n",
    "# Import folium MousePosition plugin\n",
    "from folium.plugins import MousePosition\n",
    "# Import folium DivIcon plugin\n",
    "from folium.features import DivIcon"
   ],
   "execution_count": 3,
   "outputs": []
  },
  {
   "metadata": {},
   "cell_type": "markdown",
   "source": [
    "If you need to refresh your memory about folium, you may download and refer to this previous folium lab:\n"
   ]
  },
  {
   "metadata": {},
   "cell_type": "markdown",
   "source": [
    "[Generating Maps with Python](https://cf-courses-data.s3.us.cloud-object-storage.appdomain.cloud/IBM-DS0321EN-SkillsNetwork/labs/module_3/DV0101EN-3-5-1-Generating-Maps-in-Python-py-v2.0.ipynb)\n"
   ]
  },
  {
   "metadata": {},
   "cell_type": "markdown",
   "source": [
    "## Task 1: Mark all launch sites on a map\n"
   ]
  },
  {
   "metadata": {},
   "cell_type": "markdown",
   "source": [
    "First, let's try to add each site's location on a map using site's latitude and longitude coordinates\n"
   ]
  },
  {
   "metadata": {},
   "cell_type": "markdown",
   "source": [
    "The following dataset with the name `spacex_launch_geo.csv` is an augmented dataset with latitude and longitude added for each site. \n"
   ]
  },
  {
   "metadata": {},
   "cell_type": "code",
   "source": [
    "# Download and read the `spacex_launch_geo.csv`\n",
    "spacex_csv_file = wget.download('https://cf-courses-data.s3.us.cloud-object-storage.appdomain.cloud/IBM-DS0321EN-SkillsNetwork/datasets/spacex_launch_geo.csv')\n",
    "spacex_df=pd.read_csv(spacex_csv_file)"
   ],
   "execution_count": 4,
   "outputs": []
  },
  {
   "metadata": {},
   "cell_type": "markdown",
   "source": [
    "Now, you can take a look at what are the coordinates for each site.\n"
   ]
  },
  {
   "metadata": {},
   "cell_type": "code",
   "source": [
    "# Select relevant sub-columns: `Launch Site`, `Lat(Latitude)`, `Long(Longitude)`, `class`\n",
    "spacex_df = spacex_df[['Launch Site', 'Lat', 'Long', 'class']]\n",
    "launch_sites_df = spacex_df.groupby(['Launch Site'], as_index=False).first()\n",
    "launch_sites_df = launch_sites_df[['Launch Site', 'Lat', 'Long']]\n",
    "launch_sites_df"
   ],
   "execution_count": 5,
   "outputs": [
    {
     "output_type": "execute_result",
     "execution_count": 5,
     "data": {
      "text/plain": "    Launch Site        Lat        Long\n0   CCAFS LC-40  28.562302  -80.577356\n1  CCAFS SLC-40  28.563197  -80.576820\n2    KSC LC-39A  28.573255  -80.646895\n3   VAFB SLC-4E  34.632834 -120.610745",
      "text/html": "<div>\n<style scoped>\n    .dataframe tbody tr th:only-of-type {\n        vertical-align: middle;\n    }\n\n    .dataframe tbody tr th {\n        vertical-align: top;\n    }\n\n    .dataframe thead th {\n        text-align: right;\n    }\n</style>\n<table border=\"1\" class=\"dataframe\">\n  <thead>\n    <tr style=\"text-align: right;\">\n      <th></th>\n      <th>Launch Site</th>\n      <th>Lat</th>\n      <th>Long</th>\n    </tr>\n  </thead>\n  <tbody>\n    <tr>\n      <th>0</th>\n      <td>CCAFS LC-40</td>\n      <td>28.562302</td>\n      <td>-80.577356</td>\n    </tr>\n    <tr>\n      <th>1</th>\n      <td>CCAFS SLC-40</td>\n      <td>28.563197</td>\n      <td>-80.576820</td>\n    </tr>\n    <tr>\n      <th>2</th>\n      <td>KSC LC-39A</td>\n      <td>28.573255</td>\n      <td>-80.646895</td>\n    </tr>\n    <tr>\n      <th>3</th>\n      <td>VAFB SLC-4E</td>\n      <td>34.632834</td>\n      <td>-120.610745</td>\n    </tr>\n  </tbody>\n</table>\n</div>"
     },
     "metadata": {}
    }
   ]
  },
  {
   "metadata": {},
   "cell_type": "markdown",
   "source": [
    "Above coordinates are just plain numbers that can not give you any intuitive insights about where are those launch sites. If you are very good at geography, you can interpret those numbers directly in your mind. If not, that's fine too. Let's visualize those locations by pinning them on a map.\n"
   ]
  },
  {
   "metadata": {},
   "cell_type": "markdown",
   "source": [
    "We first need to create a folium `Map` object, with an initial center location to be NASA Johnson Space Center at Houston, Texas.\n"
   ]
  },
  {
   "metadata": {},
   "cell_type": "code",
   "source": [
    "# Start location is NASA Johnson Space Center\n",
    "nasa_coordinate = [29.559684888503615, -95.0830971930759]\n",
    "site_map = folium.Map(location=nasa_coordinate, zoom_start=10)"
   ],
   "execution_count": 6,
   "outputs": []
  },
  {
   "metadata": {},
   "cell_type": "markdown",
   "source": [
    "We could use `folium.Circle` to add a highlighted circle area with a text label on a specific coordinate. For example, \n"
   ]
  },
  {
   "metadata": {
    "scrolled": true
   },
   "cell_type": "code",
   "source": [
    "# Create a blue circle at NASA Johnson Space Center's coordinate with a popup label showing its name\n",
    "circle = folium.Circle(nasa_coordinate, radius=1000, color='#d35400', fill=True).add_child(folium.Popup('NASA Johnson Space Center'))\n",
    "# Create a blue circle at NASA Johnson Space Center's coordinate with a icon showing its name\n",
    "marker = folium.map.Marker(\n",
    "    nasa_coordinate,\n",
    "    # Create an icon as a text label\n",
    "    icon=DivIcon(\n",
    "        icon_size=(20,20),\n",
    "        icon_anchor=(0,0),\n",
    "        html='<div style=\"font-size: 12; color:#d35400;\"><b>%s</b></div>' % 'NASA JSC',\n",
    "        )\n",
    "    )\n",
    "site_map.add_child(circle)\n",
    "site_map.add_child(marker)"
   ],
   "execution_count": 7,
   "outputs": [
    {
     "output_type": "execute_result",
     "execution_count": 7,
     "data": {
      "text/plain": "<folium.folium.Map at 0x7f7a8d434610>",
      "text/html": "<div style=\"width:100%;\"><div style=\"position:relative;width:100%;height:0;padding-bottom:60%;\"><span style=\"color:#565656\">Make this Notebook Trusted to load map: File -> Trust Notebook</span><iframe srcdoc=\"&lt;!DOCTYPE html&gt;\n&lt;html&gt;\n&lt;head&gt;\n    \n    &lt;meta http-equiv=&quot;content-type&quot; content=&quot;text/html; charset=UTF-8&quot; /&gt;\n    \n        &lt;script&gt;\n            L_NO_TOUCH = false;\n            L_DISABLE_3D = false;\n        &lt;/script&gt;\n    \n    &lt;style&gt;html, body {width: 100%;height: 100%;margin: 0;padding: 0;}&lt;/style&gt;\n    &lt;style&gt;#map {position:absolute;top:0;bottom:0;right:0;left:0;}&lt;/style&gt;\n    &lt;script src=&quot;https://cdn.jsdelivr.net/npm/leaflet@1.9.3/dist/leaflet.js&quot;&gt;&lt;/script&gt;\n    &lt;script src=&quot;https://code.jquery.com/jquery-1.12.4.min.js&quot;&gt;&lt;/script&gt;\n    &lt;script src=&quot;https://cdn.jsdelivr.net/npm/bootstrap@5.2.2/dist/js/bootstrap.bundle.min.js&quot;&gt;&lt;/script&gt;\n    &lt;script src=&quot;https://cdnjs.cloudflare.com/ajax/libs/Leaflet.awesome-markers/2.0.2/leaflet.awesome-markers.js&quot;&gt;&lt;/script&gt;\n    &lt;link rel=&quot;stylesheet&quot; href=&quot;https://cdn.jsdelivr.net/npm/leaflet@1.9.3/dist/leaflet.css&quot;/&gt;\n    &lt;link rel=&quot;stylesheet&quot; href=&quot;https://cdn.jsdelivr.net/npm/bootstrap@5.2.2/dist/css/bootstrap.min.css&quot;/&gt;\n    &lt;link rel=&quot;stylesheet&quot; href=&quot;https://netdna.bootstrapcdn.com/bootstrap/3.0.0/css/bootstrap.min.css&quot;/&gt;\n    &lt;link rel=&quot;stylesheet&quot; href=&quot;https://cdn.jsdelivr.net/npm/@fortawesome/fontawesome-free@6.2.0/css/all.min.css&quot;/&gt;\n    &lt;link rel=&quot;stylesheet&quot; href=&quot;https://cdnjs.cloudflare.com/ajax/libs/Leaflet.awesome-markers/2.0.2/leaflet.awesome-markers.css&quot;/&gt;\n    &lt;link rel=&quot;stylesheet&quot; href=&quot;https://cdn.jsdelivr.net/gh/python-visualization/folium/folium/templates/leaflet.awesome.rotate.min.css&quot;/&gt;\n    \n            &lt;meta name=&quot;viewport&quot; content=&quot;width=device-width,\n                initial-scale=1.0, maximum-scale=1.0, user-scalable=no&quot; /&gt;\n            &lt;style&gt;\n                #map_6f33b3615485b6f25c76a37e62d9ba38 {\n                    position: relative;\n                    width: 100.0%;\n                    height: 100.0%;\n                    left: 0.0%;\n                    top: 0.0%;\n                }\n                .leaflet-container { font-size: 1rem; }\n            &lt;/style&gt;\n        \n&lt;/head&gt;\n&lt;body&gt;\n    \n    \n            &lt;div class=&quot;folium-map&quot; id=&quot;map_6f33b3615485b6f25c76a37e62d9ba38&quot; &gt;&lt;/div&gt;\n        \n&lt;/body&gt;\n&lt;script&gt;\n    \n    \n            var map_6f33b3615485b6f25c76a37e62d9ba38 = L.map(\n                &quot;map_6f33b3615485b6f25c76a37e62d9ba38&quot;,\n                {\n                    center: [29.559684888503615, -95.0830971930759],\n                    crs: L.CRS.EPSG3857,\n                    zoom: 10,\n                    zoomControl: true,\n                    preferCanvas: false,\n                }\n            );\n\n            \n\n        \n    \n            var tile_layer_4e32af30f555533e84f72b1f74407be2 = L.tileLayer(\n                &quot;https://{s}.tile.openstreetmap.org/{z}/{x}/{y}.png&quot;,\n                {&quot;attribution&quot;: &quot;Data by \\u0026copy; \\u003ca target=\\&quot;_blank\\&quot; href=\\&quot;http://openstreetmap.org\\&quot;\\u003eOpenStreetMap\\u003c/a\\u003e, under \\u003ca target=\\&quot;_blank\\&quot; href=\\&quot;http://www.openstreetmap.org/copyright\\&quot;\\u003eODbL\\u003c/a\\u003e.&quot;, &quot;detectRetina&quot;: false, &quot;maxNativeZoom&quot;: 18, &quot;maxZoom&quot;: 18, &quot;minZoom&quot;: 0, &quot;noWrap&quot;: false, &quot;opacity&quot;: 1, &quot;subdomains&quot;: &quot;abc&quot;, &quot;tms&quot;: false}\n            ).addTo(map_6f33b3615485b6f25c76a37e62d9ba38);\n        \n    \n            var circle_b37a35ad74028721495dd9f0ff2bb34b = L.circle(\n                [29.559684888503615, -95.0830971930759],\n                {&quot;bubblingMouseEvents&quot;: true, &quot;color&quot;: &quot;#d35400&quot;, &quot;dashArray&quot;: null, &quot;dashOffset&quot;: null, &quot;fill&quot;: true, &quot;fillColor&quot;: &quot;#d35400&quot;, &quot;fillOpacity&quot;: 0.2, &quot;fillRule&quot;: &quot;evenodd&quot;, &quot;lineCap&quot;: &quot;round&quot;, &quot;lineJoin&quot;: &quot;round&quot;, &quot;opacity&quot;: 1.0, &quot;radius&quot;: 1000, &quot;stroke&quot;: true, &quot;weight&quot;: 3}\n            ).addTo(map_6f33b3615485b6f25c76a37e62d9ba38);\n        \n    \n        var popup_bef596abbec59ae07a996cd644883d23 = L.popup({&quot;maxWidth&quot;: &quot;100%&quot;});\n\n        \n            \n                var html_2d46990f19f98c051b97bf52a98b0b8b = $(`&lt;div id=&quot;html_2d46990f19f98c051b97bf52a98b0b8b&quot; style=&quot;width: 100.0%; height: 100.0%;&quot;&gt;NASA Johnson Space Center&lt;/div&gt;`)[0];\n                popup_bef596abbec59ae07a996cd644883d23.setContent(html_2d46990f19f98c051b97bf52a98b0b8b);\n            \n        \n\n        circle_b37a35ad74028721495dd9f0ff2bb34b.bindPopup(popup_bef596abbec59ae07a996cd644883d23)\n        ;\n\n        \n    \n    \n            var marker_f1892448a45aa519947735e0d26bc6d6 = L.marker(\n                [29.559684888503615, -95.0830971930759],\n                {}\n            ).addTo(map_6f33b3615485b6f25c76a37e62d9ba38);\n        \n    \n            var div_icon_7a0f01d72c526d7730ed52be384461b1 = L.divIcon({&quot;className&quot;: &quot;empty&quot;, &quot;html&quot;: &quot;\\u003cdiv style=\\&quot;font-size: 12; color:#d35400;\\&quot;\\u003e\\u003cb\\u003eNASA JSC\\u003c/b\\u003e\\u003c/div\\u003e&quot;, &quot;iconAnchor&quot;: [0, 0], &quot;iconSize&quot;: [20, 20]});\n            marker_f1892448a45aa519947735e0d26bc6d6.setIcon(div_icon_7a0f01d72c526d7730ed52be384461b1);\n        \n&lt;/script&gt;\n&lt;/html&gt;\" style=\"position:absolute;width:100%;height:100%;left:0;top:0;border:none !important;\" allowfullscreen webkitallowfullscreen mozallowfullscreen></iframe></div></div>"
     },
     "metadata": {}
    }
   ]
  },
  {
   "metadata": {},
   "cell_type": "markdown",
   "source": [
    "and you should find a small yellow circle near the city of Houston and you can zoom-in to see a larger circle. \n"
   ]
  },
  {
   "metadata": {},
   "cell_type": "markdown",
   "source": [
    "Now, let's add a circle for each launch site in data frame `launch_sites`\n"
   ]
  },
  {
   "metadata": {},
   "cell_type": "markdown",
   "source": [
    "_TODO:_  Create and add `folium.Circle` and `folium.Marker` for each launch site on the site map\n"
   ]
  },
  {
   "metadata": {},
   "cell_type": "markdown",
   "source": [
    "An example of folium.Circle:\n"
   ]
  },
  {
   "metadata": {},
   "cell_type": "markdown",
   "source": [
    "`folium.Circle(coordinate, radius=1000, color='#000000', fill=True).add_child(folium.Popup(...))`\n"
   ]
  },
  {
   "metadata": {},
   "cell_type": "markdown",
   "source": [
    "An example of folium.Marker:\n"
   ]
  },
  {
   "metadata": {},
   "cell_type": "markdown",
   "source": [
    "`folium.map.Marker(coordinate, icon=DivIcon(icon_size=(20,20),icon_anchor=(0,0), html='<div style=\"font-size: 12; color:#d35400;\"><b>%s</b></div>' % 'label', ))`\n"
   ]
  },
  {
   "metadata": {},
   "cell_type": "code",
   "source": [
    "# Initial the map\n",
    "site_map = folium.Map(location=nasa_coordinate, zoom_start=5)\n",
    "# For each launch site, add a Circle object based on its coordinate (Lat, Long) values. In addition, add Launch site name as a popup label\n"
   ],
   "execution_count": 8,
   "outputs": []
  },
  {
   "metadata": {},
   "cell_type": "code",
   "source": [
    "site_map = folium.Map(location=nasa_coordinate, zoom_start=5)\n",
    "for ind in launch_sites_df.index:\n",
    "    row = launch_sites_df.iloc[ind]\n",
    "    # Create a blue circle at NASA Johnson Space Center's coordinate with a popup label showing its name\n",
    "    circle = folium.Circle([row['Lat'], row['Long']], radius=1000, color='#d35400', fill=True).add_child(folium.Popup(row['Launch Site']))\n",
    "    # Create a blue circle at NASA Johnson Space Center's coordinate with a icon showing its name\n",
    "    marker = folium.map.Marker(\n",
    "        [row['Lat'], row['Long']],\n",
    "        # Create an icon as a text label\n",
    "        icon=DivIcon(\n",
    "            icon_size=(20,20),\n",
    "            icon_anchor=(0,0),\n",
    "            html='<div style=\"font-size: 12; color:#d35400;\"><b>%s</b></div>' % row['Launch Site'],\n",
    "            )\n",
    "        )\n",
    "    site_map.add_child(circle)\n",
    "    site_map.add_child(marker)\n",
    "\n",
    "site_map"
   ],
   "execution_count": 9,
   "outputs": [
    {
     "output_type": "execute_result",
     "execution_count": 9,
     "data": {
      "text/plain": "<folium.folium.Map at 0x7f7a8d2655d0>",
      "text/html": "<div style=\"width:100%;\"><div style=\"position:relative;width:100%;height:0;padding-bottom:60%;\"><span style=\"color:#565656\">Make this Notebook Trusted to load map: File -> Trust Notebook</span><iframe srcdoc=\"&lt;!DOCTYPE html&gt;\n&lt;html&gt;\n&lt;head&gt;\n    \n    &lt;meta http-equiv=&quot;content-type&quot; content=&quot;text/html; charset=UTF-8&quot; /&gt;\n    \n        &lt;script&gt;\n            L_NO_TOUCH = false;\n            L_DISABLE_3D = false;\n        &lt;/script&gt;\n    \n    &lt;style&gt;html, body {width: 100%;height: 100%;margin: 0;padding: 0;}&lt;/style&gt;\n    &lt;style&gt;#map {position:absolute;top:0;bottom:0;right:0;left:0;}&lt;/style&gt;\n    &lt;script src=&quot;https://cdn.jsdelivr.net/npm/leaflet@1.9.3/dist/leaflet.js&quot;&gt;&lt;/script&gt;\n    &lt;script src=&quot;https://code.jquery.com/jquery-1.12.4.min.js&quot;&gt;&lt;/script&gt;\n    &lt;script src=&quot;https://cdn.jsdelivr.net/npm/bootstrap@5.2.2/dist/js/bootstrap.bundle.min.js&quot;&gt;&lt;/script&gt;\n    &lt;script src=&quot;https://cdnjs.cloudflare.com/ajax/libs/Leaflet.awesome-markers/2.0.2/leaflet.awesome-markers.js&quot;&gt;&lt;/script&gt;\n    &lt;link rel=&quot;stylesheet&quot; href=&quot;https://cdn.jsdelivr.net/npm/leaflet@1.9.3/dist/leaflet.css&quot;/&gt;\n    &lt;link rel=&quot;stylesheet&quot; href=&quot;https://cdn.jsdelivr.net/npm/bootstrap@5.2.2/dist/css/bootstrap.min.css&quot;/&gt;\n    &lt;link rel=&quot;stylesheet&quot; href=&quot;https://netdna.bootstrapcdn.com/bootstrap/3.0.0/css/bootstrap.min.css&quot;/&gt;\n    &lt;link rel=&quot;stylesheet&quot; href=&quot;https://cdn.jsdelivr.net/npm/@fortawesome/fontawesome-free@6.2.0/css/all.min.css&quot;/&gt;\n    &lt;link rel=&quot;stylesheet&quot; href=&quot;https://cdnjs.cloudflare.com/ajax/libs/Leaflet.awesome-markers/2.0.2/leaflet.awesome-markers.css&quot;/&gt;\n    &lt;link rel=&quot;stylesheet&quot; href=&quot;https://cdn.jsdelivr.net/gh/python-visualization/folium/folium/templates/leaflet.awesome.rotate.min.css&quot;/&gt;\n    \n            &lt;meta name=&quot;viewport&quot; content=&quot;width=device-width,\n                initial-scale=1.0, maximum-scale=1.0, user-scalable=no&quot; /&gt;\n            &lt;style&gt;\n                #map_4e9d3ad71e1a31c6bdeecbf9c9881401 {\n                    position: relative;\n                    width: 100.0%;\n                    height: 100.0%;\n                    left: 0.0%;\n                    top: 0.0%;\n                }\n                .leaflet-container { font-size: 1rem; }\n            &lt;/style&gt;\n        \n&lt;/head&gt;\n&lt;body&gt;\n    \n    \n            &lt;div class=&quot;folium-map&quot; id=&quot;map_4e9d3ad71e1a31c6bdeecbf9c9881401&quot; &gt;&lt;/div&gt;\n        \n&lt;/body&gt;\n&lt;script&gt;\n    \n    \n            var map_4e9d3ad71e1a31c6bdeecbf9c9881401 = L.map(\n                &quot;map_4e9d3ad71e1a31c6bdeecbf9c9881401&quot;,\n                {\n                    center: [29.559684888503615, -95.0830971930759],\n                    crs: L.CRS.EPSG3857,\n                    zoom: 5,\n                    zoomControl: true,\n                    preferCanvas: false,\n                }\n            );\n\n            \n\n        \n    \n            var tile_layer_888ec1430201e194358f10e3b4fab89e = L.tileLayer(\n                &quot;https://{s}.tile.openstreetmap.org/{z}/{x}/{y}.png&quot;,\n                {&quot;attribution&quot;: &quot;Data by \\u0026copy; \\u003ca target=\\&quot;_blank\\&quot; href=\\&quot;http://openstreetmap.org\\&quot;\\u003eOpenStreetMap\\u003c/a\\u003e, under \\u003ca target=\\&quot;_blank\\&quot; href=\\&quot;http://www.openstreetmap.org/copyright\\&quot;\\u003eODbL\\u003c/a\\u003e.&quot;, &quot;detectRetina&quot;: false, &quot;maxNativeZoom&quot;: 18, &quot;maxZoom&quot;: 18, &quot;minZoom&quot;: 0, &quot;noWrap&quot;: false, &quot;opacity&quot;: 1, &quot;subdomains&quot;: &quot;abc&quot;, &quot;tms&quot;: false}\n            ).addTo(map_4e9d3ad71e1a31c6bdeecbf9c9881401);\n        \n    \n            var circle_3d19f5470a03ee828c89583093df23fc = L.circle(\n                [28.56230197, -80.57735648],\n                {&quot;bubblingMouseEvents&quot;: true, &quot;color&quot;: &quot;#d35400&quot;, &quot;dashArray&quot;: null, &quot;dashOffset&quot;: null, &quot;fill&quot;: true, &quot;fillColor&quot;: &quot;#d35400&quot;, &quot;fillOpacity&quot;: 0.2, &quot;fillRule&quot;: &quot;evenodd&quot;, &quot;lineCap&quot;: &quot;round&quot;, &quot;lineJoin&quot;: &quot;round&quot;, &quot;opacity&quot;: 1.0, &quot;radius&quot;: 1000, &quot;stroke&quot;: true, &quot;weight&quot;: 3}\n            ).addTo(map_4e9d3ad71e1a31c6bdeecbf9c9881401);\n        \n    \n        var popup_0e0f89ee803ae33c1cb5a241fc2a6ff8 = L.popup({&quot;maxWidth&quot;: &quot;100%&quot;});\n\n        \n            \n                var html_a87758c1d6968efdeb6f6634cd713479 = $(`&lt;div id=&quot;html_a87758c1d6968efdeb6f6634cd713479&quot; style=&quot;width: 100.0%; height: 100.0%;&quot;&gt;CCAFS LC-40&lt;/div&gt;`)[0];\n                popup_0e0f89ee803ae33c1cb5a241fc2a6ff8.setContent(html_a87758c1d6968efdeb6f6634cd713479);\n            \n        \n\n        circle_3d19f5470a03ee828c89583093df23fc.bindPopup(popup_0e0f89ee803ae33c1cb5a241fc2a6ff8)\n        ;\n\n        \n    \n    \n            var marker_a7b69c242ac314b3da78583280076a67 = L.marker(\n                [28.56230197, -80.57735648],\n                {}\n            ).addTo(map_4e9d3ad71e1a31c6bdeecbf9c9881401);\n        \n    \n            var div_icon_993d7cac1db6c5145b5c10feac1f61d4 = L.divIcon({&quot;className&quot;: &quot;empty&quot;, &quot;html&quot;: &quot;\\u003cdiv style=\\&quot;font-size: 12; color:#d35400;\\&quot;\\u003e\\u003cb\\u003eCCAFS LC-40\\u003c/b\\u003e\\u003c/div\\u003e&quot;, &quot;iconAnchor&quot;: [0, 0], &quot;iconSize&quot;: [20, 20]});\n            marker_a7b69c242ac314b3da78583280076a67.setIcon(div_icon_993d7cac1db6c5145b5c10feac1f61d4);\n        \n    \n            var circle_c148ab80b6c97f33fe6bd673117bb785 = L.circle(\n                [28.56319718, -80.57682003],\n                {&quot;bubblingMouseEvents&quot;: true, &quot;color&quot;: &quot;#d35400&quot;, &quot;dashArray&quot;: null, &quot;dashOffset&quot;: null, &quot;fill&quot;: true, &quot;fillColor&quot;: &quot;#d35400&quot;, &quot;fillOpacity&quot;: 0.2, &quot;fillRule&quot;: &quot;evenodd&quot;, &quot;lineCap&quot;: &quot;round&quot;, &quot;lineJoin&quot;: &quot;round&quot;, &quot;opacity&quot;: 1.0, &quot;radius&quot;: 1000, &quot;stroke&quot;: true, &quot;weight&quot;: 3}\n            ).addTo(map_4e9d3ad71e1a31c6bdeecbf9c9881401);\n        \n    \n        var popup_e92dfa2511c1cfad18d1bb3862d86f32 = L.popup({&quot;maxWidth&quot;: &quot;100%&quot;});\n\n        \n            \n                var html_08bb8719f103718f9964a6deb0920219 = $(`&lt;div id=&quot;html_08bb8719f103718f9964a6deb0920219&quot; style=&quot;width: 100.0%; height: 100.0%;&quot;&gt;CCAFS SLC-40&lt;/div&gt;`)[0];\n                popup_e92dfa2511c1cfad18d1bb3862d86f32.setContent(html_08bb8719f103718f9964a6deb0920219);\n            \n        \n\n        circle_c148ab80b6c97f33fe6bd673117bb785.bindPopup(popup_e92dfa2511c1cfad18d1bb3862d86f32)\n        ;\n\n        \n    \n    \n            var marker_b3c2d8afe2836324e1c5382bbbd6bbbf = L.marker(\n                [28.56319718, -80.57682003],\n                {}\n            ).addTo(map_4e9d3ad71e1a31c6bdeecbf9c9881401);\n        \n    \n            var div_icon_10eda96ffcbcee0dedf8da372a354a3f = L.divIcon({&quot;className&quot;: &quot;empty&quot;, &quot;html&quot;: &quot;\\u003cdiv style=\\&quot;font-size: 12; color:#d35400;\\&quot;\\u003e\\u003cb\\u003eCCAFS SLC-40\\u003c/b\\u003e\\u003c/div\\u003e&quot;, &quot;iconAnchor&quot;: [0, 0], &quot;iconSize&quot;: [20, 20]});\n            marker_b3c2d8afe2836324e1c5382bbbd6bbbf.setIcon(div_icon_10eda96ffcbcee0dedf8da372a354a3f);\n        \n    \n            var circle_46e70c7c38bb00263b0bd9362a81b204 = L.circle(\n                [28.57325457, -80.64689529],\n                {&quot;bubblingMouseEvents&quot;: true, &quot;color&quot;: &quot;#d35400&quot;, &quot;dashArray&quot;: null, &quot;dashOffset&quot;: null, &quot;fill&quot;: true, &quot;fillColor&quot;: &quot;#d35400&quot;, &quot;fillOpacity&quot;: 0.2, &quot;fillRule&quot;: &quot;evenodd&quot;, &quot;lineCap&quot;: &quot;round&quot;, &quot;lineJoin&quot;: &quot;round&quot;, &quot;opacity&quot;: 1.0, &quot;radius&quot;: 1000, &quot;stroke&quot;: true, &quot;weight&quot;: 3}\n            ).addTo(map_4e9d3ad71e1a31c6bdeecbf9c9881401);\n        \n    \n        var popup_d58e3fdcae169f2f520d1694eb23bc1a = L.popup({&quot;maxWidth&quot;: &quot;100%&quot;});\n\n        \n            \n                var html_0e39390191758918ca40058a00272fb4 = $(`&lt;div id=&quot;html_0e39390191758918ca40058a00272fb4&quot; style=&quot;width: 100.0%; height: 100.0%;&quot;&gt;KSC LC-39A&lt;/div&gt;`)[0];\n                popup_d58e3fdcae169f2f520d1694eb23bc1a.setContent(html_0e39390191758918ca40058a00272fb4);\n            \n        \n\n        circle_46e70c7c38bb00263b0bd9362a81b204.bindPopup(popup_d58e3fdcae169f2f520d1694eb23bc1a)\n        ;\n\n        \n    \n    \n            var marker_c0c25c8b0938d6a4ab46b636311e2a9b = L.marker(\n                [28.57325457, -80.64689529],\n                {}\n            ).addTo(map_4e9d3ad71e1a31c6bdeecbf9c9881401);\n        \n    \n            var div_icon_ba463fd4a5d3c04520075efe1947739a = L.divIcon({&quot;className&quot;: &quot;empty&quot;, &quot;html&quot;: &quot;\\u003cdiv style=\\&quot;font-size: 12; color:#d35400;\\&quot;\\u003e\\u003cb\\u003eKSC LC-39A\\u003c/b\\u003e\\u003c/div\\u003e&quot;, &quot;iconAnchor&quot;: [0, 0], &quot;iconSize&quot;: [20, 20]});\n            marker_c0c25c8b0938d6a4ab46b636311e2a9b.setIcon(div_icon_ba463fd4a5d3c04520075efe1947739a);\n        \n    \n            var circle_b9dd26dd0266e3be34df37a0e76cb09e = L.circle(\n                [34.63283416, -120.6107455],\n                {&quot;bubblingMouseEvents&quot;: true, &quot;color&quot;: &quot;#d35400&quot;, &quot;dashArray&quot;: null, &quot;dashOffset&quot;: null, &quot;fill&quot;: true, &quot;fillColor&quot;: &quot;#d35400&quot;, &quot;fillOpacity&quot;: 0.2, &quot;fillRule&quot;: &quot;evenodd&quot;, &quot;lineCap&quot;: &quot;round&quot;, &quot;lineJoin&quot;: &quot;round&quot;, &quot;opacity&quot;: 1.0, &quot;radius&quot;: 1000, &quot;stroke&quot;: true, &quot;weight&quot;: 3}\n            ).addTo(map_4e9d3ad71e1a31c6bdeecbf9c9881401);\n        \n    \n        var popup_ac23d722aabccc2e8be4cd140205814c = L.popup({&quot;maxWidth&quot;: &quot;100%&quot;});\n\n        \n            \n                var html_19042de900c3ccd782da0f1aab9c59ef = $(`&lt;div id=&quot;html_19042de900c3ccd782da0f1aab9c59ef&quot; style=&quot;width: 100.0%; height: 100.0%;&quot;&gt;VAFB SLC-4E&lt;/div&gt;`)[0];\n                popup_ac23d722aabccc2e8be4cd140205814c.setContent(html_19042de900c3ccd782da0f1aab9c59ef);\n            \n        \n\n        circle_b9dd26dd0266e3be34df37a0e76cb09e.bindPopup(popup_ac23d722aabccc2e8be4cd140205814c)\n        ;\n\n        \n    \n    \n            var marker_598832812db8039db1431aa5c820c6b8 = L.marker(\n                [34.63283416, -120.6107455],\n                {}\n            ).addTo(map_4e9d3ad71e1a31c6bdeecbf9c9881401);\n        \n    \n            var div_icon_ffb0948e2daf2a67531a24cdd28d8bdf = L.divIcon({&quot;className&quot;: &quot;empty&quot;, &quot;html&quot;: &quot;\\u003cdiv style=\\&quot;font-size: 12; color:#d35400;\\&quot;\\u003e\\u003cb\\u003eVAFB SLC-4E\\u003c/b\\u003e\\u003c/div\\u003e&quot;, &quot;iconAnchor&quot;: [0, 0], &quot;iconSize&quot;: [20, 20]});\n            marker_598832812db8039db1431aa5c820c6b8.setIcon(div_icon_ffb0948e2daf2a67531a24cdd28d8bdf);\n        \n&lt;/script&gt;\n&lt;/html&gt;\" style=\"position:absolute;width:100%;height:100%;left:0;top:0;border:none !important;\" allowfullscreen webkitallowfullscreen mozallowfullscreen></iframe></div></div>"
     },
     "metadata": {}
    }
   ]
  },
  {
   "metadata": {},
   "cell_type": "markdown",
   "source": [
    "The generated map with marked launch sites should look similar to the following:\n"
   ]
  },
  {
   "metadata": {},
   "cell_type": "markdown",
   "source": [
    "<center>\n",
    "    <img src=\"https://cf-courses-data.s3.us.cloud-object-storage.appdomain.cloud/IBM-DS0321EN-SkillsNetwork/labs/module_3/images/launch_site_markers.png\">\n",
    "</center>\n"
   ]
  },
  {
   "metadata": {},
   "cell_type": "markdown",
   "source": [
    "Now, you can explore the map by zoom-in/out the marked areas\n",
    ", and try to answer the following questions:\n",
    "- Are all launch sites in proximity to the Equator line?\n",
    "- Are all launch sites in very close proximity to the coast?\n",
    "\n",
    "Also please try to explain your findings.\n"
   ]
  },
  {
   "metadata": {},
   "cell_type": "markdown",
   "source": [
    "# Task 2: Mark the success/failed launches for each site on the map\n"
   ]
  },
  {
   "metadata": {},
   "cell_type": "markdown",
   "source": [
    "Next, let's try to enhance the map by adding the launch outcomes for each site, and see which sites have high success rates.\n",
    "Recall that data frame spacex_df has detailed launch records, and the `class` column indicates if this launch was successful or not\n"
   ]
  },
  {
   "metadata": {},
   "cell_type": "code",
   "source": [
    "spacex_df.tail(10)"
   ],
   "execution_count": 10,
   "outputs": [
    {
     "output_type": "execute_result",
     "execution_count": 10,
     "data": {
      "text/plain": "     Launch Site        Lat       Long  class\n46    KSC LC-39A  28.573255 -80.646895      1\n47    KSC LC-39A  28.573255 -80.646895      1\n48    KSC LC-39A  28.573255 -80.646895      1\n49  CCAFS SLC-40  28.563197 -80.576820      1\n50  CCAFS SLC-40  28.563197 -80.576820      1\n51  CCAFS SLC-40  28.563197 -80.576820      0\n52  CCAFS SLC-40  28.563197 -80.576820      0\n53  CCAFS SLC-40  28.563197 -80.576820      0\n54  CCAFS SLC-40  28.563197 -80.576820      1\n55  CCAFS SLC-40  28.563197 -80.576820      0",
      "text/html": "<div>\n<style scoped>\n    .dataframe tbody tr th:only-of-type {\n        vertical-align: middle;\n    }\n\n    .dataframe tbody tr th {\n        vertical-align: top;\n    }\n\n    .dataframe thead th {\n        text-align: right;\n    }\n</style>\n<table border=\"1\" class=\"dataframe\">\n  <thead>\n    <tr style=\"text-align: right;\">\n      <th></th>\n      <th>Launch Site</th>\n      <th>Lat</th>\n      <th>Long</th>\n      <th>class</th>\n    </tr>\n  </thead>\n  <tbody>\n    <tr>\n      <th>46</th>\n      <td>KSC LC-39A</td>\n      <td>28.573255</td>\n      <td>-80.646895</td>\n      <td>1</td>\n    </tr>\n    <tr>\n      <th>47</th>\n      <td>KSC LC-39A</td>\n      <td>28.573255</td>\n      <td>-80.646895</td>\n      <td>1</td>\n    </tr>\n    <tr>\n      <th>48</th>\n      <td>KSC LC-39A</td>\n      <td>28.573255</td>\n      <td>-80.646895</td>\n      <td>1</td>\n    </tr>\n    <tr>\n      <th>49</th>\n      <td>CCAFS SLC-40</td>\n      <td>28.563197</td>\n      <td>-80.576820</td>\n      <td>1</td>\n    </tr>\n    <tr>\n      <th>50</th>\n      <td>CCAFS SLC-40</td>\n      <td>28.563197</td>\n      <td>-80.576820</td>\n      <td>1</td>\n    </tr>\n    <tr>\n      <th>51</th>\n      <td>CCAFS SLC-40</td>\n      <td>28.563197</td>\n      <td>-80.576820</td>\n      <td>0</td>\n    </tr>\n    <tr>\n      <th>52</th>\n      <td>CCAFS SLC-40</td>\n      <td>28.563197</td>\n      <td>-80.576820</td>\n      <td>0</td>\n    </tr>\n    <tr>\n      <th>53</th>\n      <td>CCAFS SLC-40</td>\n      <td>28.563197</td>\n      <td>-80.576820</td>\n      <td>0</td>\n    </tr>\n    <tr>\n      <th>54</th>\n      <td>CCAFS SLC-40</td>\n      <td>28.563197</td>\n      <td>-80.576820</td>\n      <td>1</td>\n    </tr>\n    <tr>\n      <th>55</th>\n      <td>CCAFS SLC-40</td>\n      <td>28.563197</td>\n      <td>-80.576820</td>\n      <td>0</td>\n    </tr>\n  </tbody>\n</table>\n</div>"
     },
     "metadata": {}
    }
   ]
  },
  {
   "metadata": {},
   "cell_type": "markdown",
   "source": [
    "Next, let's create markers for all launch records. \n",
    "If a launch was successful `(class=1)`, then we use a green marker and if a launch was failed, we use a red marker `(class=0)`\n"
   ]
  },
  {
   "metadata": {},
   "cell_type": "markdown",
   "source": [
    "Note that a launch only happens in one of the four launch sites, which means many launch records will have the exact same coordinate. Marker clusters can be a good way to simplify a map containing many markers having the same coordinate.\n"
   ]
  },
  {
   "metadata": {},
   "cell_type": "markdown",
   "source": [
    "Let's first create a `MarkerCluster` object\n"
   ]
  },
  {
   "metadata": {
    "id": "wP9PVUZ7Jfjt",
    "outputId": "6a3b8164-940c-4b93-9f3d-c655c4a0c683",
    "papermill": {
     "duration": 0.904519,
     "end_time": "2020-09-19T06:27:38.357041",
     "exception": false,
     "start_time": "2020-09-19T06:27:37.452522",
     "status": "completed"
    },
    "tags": []
   },
   "cell_type": "code",
   "source": [
    "marker_cluster = MarkerCluster()"
   ],
   "execution_count": 11,
   "outputs": []
  },
  {
   "metadata": {},
   "cell_type": "markdown",
   "source": [
    "_TODO:_ Create a new column in `launch_sites` dataframe called `marker_color` to store the marker colors based on the `class` value\n"
   ]
  },
  {
   "metadata": {},
   "cell_type": "code",
   "source": [
    "launch_sites_df"
   ],
   "execution_count": 12,
   "outputs": [
    {
     "output_type": "execute_result",
     "execution_count": 12,
     "data": {
      "text/plain": "    Launch Site        Lat        Long\n0   CCAFS LC-40  28.562302  -80.577356\n1  CCAFS SLC-40  28.563197  -80.576820\n2    KSC LC-39A  28.573255  -80.646895\n3   VAFB SLC-4E  34.632834 -120.610745",
      "text/html": "<div>\n<style scoped>\n    .dataframe tbody tr th:only-of-type {\n        vertical-align: middle;\n    }\n\n    .dataframe tbody tr th {\n        vertical-align: top;\n    }\n\n    .dataframe thead th {\n        text-align: right;\n    }\n</style>\n<table border=\"1\" class=\"dataframe\">\n  <thead>\n    <tr style=\"text-align: right;\">\n      <th></th>\n      <th>Launch Site</th>\n      <th>Lat</th>\n      <th>Long</th>\n    </tr>\n  </thead>\n  <tbody>\n    <tr>\n      <th>0</th>\n      <td>CCAFS LC-40</td>\n      <td>28.562302</td>\n      <td>-80.577356</td>\n    </tr>\n    <tr>\n      <th>1</th>\n      <td>CCAFS SLC-40</td>\n      <td>28.563197</td>\n      <td>-80.576820</td>\n    </tr>\n    <tr>\n      <th>2</th>\n      <td>KSC LC-39A</td>\n      <td>28.573255</td>\n      <td>-80.646895</td>\n    </tr>\n    <tr>\n      <th>3</th>\n      <td>VAFB SLC-4E</td>\n      <td>34.632834</td>\n      <td>-120.610745</td>\n    </tr>\n  </tbody>\n</table>\n</div>"
     },
     "metadata": {}
    }
   ]
  },
  {
   "metadata": {},
   "cell_type": "code",
   "source": [
    "# launch_sites['marker_color']\n",
    "# Apply a function to check the value of `class` column\n",
    "# If class=1, marker_color value will be green\n",
    "# If class=0, marker_color value will be red\n"
   ],
   "execution_count": null,
   "outputs": []
  },
  {
   "metadata": {},
   "cell_type": "code",
   "source": [
    "# Function to assign color to launch outcome\n",
    "def assign_marker_color(launch_outcome):\n",
    "    if launch_outcome == 1:\n",
    "        return 'green'\n",
    "    else:\n",
    "        return 'red'\n",
    "    \n",
    "spacex_df['marker_color'] = spacex_df['class'].apply(assign_marker_color)\n",
    "spacex_df.tail(10)"
   ],
   "execution_count": 13,
   "outputs": [
    {
     "output_type": "execute_result",
     "execution_count": 13,
     "data": {
      "text/plain": "     Launch Site        Lat       Long  class marker_color\n46    KSC LC-39A  28.573255 -80.646895      1        green\n47    KSC LC-39A  28.573255 -80.646895      1        green\n48    KSC LC-39A  28.573255 -80.646895      1        green\n49  CCAFS SLC-40  28.563197 -80.576820      1        green\n50  CCAFS SLC-40  28.563197 -80.576820      1        green\n51  CCAFS SLC-40  28.563197 -80.576820      0          red\n52  CCAFS SLC-40  28.563197 -80.576820      0          red\n53  CCAFS SLC-40  28.563197 -80.576820      0          red\n54  CCAFS SLC-40  28.563197 -80.576820      1        green\n55  CCAFS SLC-40  28.563197 -80.576820      0          red",
      "text/html": "<div>\n<style scoped>\n    .dataframe tbody tr th:only-of-type {\n        vertical-align: middle;\n    }\n\n    .dataframe tbody tr th {\n        vertical-align: top;\n    }\n\n    .dataframe thead th {\n        text-align: right;\n    }\n</style>\n<table border=\"1\" class=\"dataframe\">\n  <thead>\n    <tr style=\"text-align: right;\">\n      <th></th>\n      <th>Launch Site</th>\n      <th>Lat</th>\n      <th>Long</th>\n      <th>class</th>\n      <th>marker_color</th>\n    </tr>\n  </thead>\n  <tbody>\n    <tr>\n      <th>46</th>\n      <td>KSC LC-39A</td>\n      <td>28.573255</td>\n      <td>-80.646895</td>\n      <td>1</td>\n      <td>green</td>\n    </tr>\n    <tr>\n      <th>47</th>\n      <td>KSC LC-39A</td>\n      <td>28.573255</td>\n      <td>-80.646895</td>\n      <td>1</td>\n      <td>green</td>\n    </tr>\n    <tr>\n      <th>48</th>\n      <td>KSC LC-39A</td>\n      <td>28.573255</td>\n      <td>-80.646895</td>\n      <td>1</td>\n      <td>green</td>\n    </tr>\n    <tr>\n      <th>49</th>\n      <td>CCAFS SLC-40</td>\n      <td>28.563197</td>\n      <td>-80.576820</td>\n      <td>1</td>\n      <td>green</td>\n    </tr>\n    <tr>\n      <th>50</th>\n      <td>CCAFS SLC-40</td>\n      <td>28.563197</td>\n      <td>-80.576820</td>\n      <td>1</td>\n      <td>green</td>\n    </tr>\n    <tr>\n      <th>51</th>\n      <td>CCAFS SLC-40</td>\n      <td>28.563197</td>\n      <td>-80.576820</td>\n      <td>0</td>\n      <td>red</td>\n    </tr>\n    <tr>\n      <th>52</th>\n      <td>CCAFS SLC-40</td>\n      <td>28.563197</td>\n      <td>-80.576820</td>\n      <td>0</td>\n      <td>red</td>\n    </tr>\n    <tr>\n      <th>53</th>\n      <td>CCAFS SLC-40</td>\n      <td>28.563197</td>\n      <td>-80.576820</td>\n      <td>0</td>\n      <td>red</td>\n    </tr>\n    <tr>\n      <th>54</th>\n      <td>CCAFS SLC-40</td>\n      <td>28.563197</td>\n      <td>-80.576820</td>\n      <td>1</td>\n      <td>green</td>\n    </tr>\n    <tr>\n      <th>55</th>\n      <td>CCAFS SLC-40</td>\n      <td>28.563197</td>\n      <td>-80.576820</td>\n      <td>0</td>\n      <td>red</td>\n    </tr>\n  </tbody>\n</table>\n</div>"
     },
     "metadata": {}
    }
   ]
  },
  {
   "metadata": {},
   "cell_type": "markdown",
   "source": [
    "_TODO:_ For each launch result in `spacex_df` data frame, add a `folium.Marker` to `marker_cluster`\n"
   ]
  },
  {
   "metadata": {},
   "cell_type": "code",
   "source": [
    "# Add marker_cluster to current site_map\n",
    "\n",
    "\n",
    "# for each row in spacex_df data frame\n",
    "# create a Marker object with its coordinate\n",
    "# and customize the Marker's icon property to indicate if this launch was successed or failed, \n",
    "# e.g., icon=folium.Icon(color='white', icon_color=row['marker_color']\n",
    "for index, record in spacex_df.iterrows():\n",
    "    # TODO: Create and add a Marker cluster to the site map\n",
    "    marker = folium.Marker([record['Lat'], record['Long']], icon=folium.Icon(color='white', icon_color=record['marker_color']))\n",
    "    marker_cluster.add_child(marker)\n",
    "\n",
    "\n",
    "site_map.add_child(marker_cluster)\n",
    "site_map"
   ],
   "execution_count": 14,
   "outputs": [
    {
     "output_type": "execute_result",
     "execution_count": 14,
     "data": {
      "text/plain": "<folium.folium.Map at 0x7f7a8d2655d0>",
      "text/html": "<div style=\"width:100%;\"><div style=\"position:relative;width:100%;height:0;padding-bottom:60%;\"><span style=\"color:#565656\">Make this Notebook Trusted to load map: File -> Trust Notebook</span><iframe srcdoc=\"&lt;!DOCTYPE html&gt;\n&lt;html&gt;\n&lt;head&gt;\n    \n    &lt;meta http-equiv=&quot;content-type&quot; content=&quot;text/html; charset=UTF-8&quot; /&gt;\n    \n        &lt;script&gt;\n            L_NO_TOUCH = false;\n            L_DISABLE_3D = false;\n        &lt;/script&gt;\n    \n    &lt;style&gt;html, body {width: 100%;height: 100%;margin: 0;padding: 0;}&lt;/style&gt;\n    &lt;style&gt;#map {position:absolute;top:0;bottom:0;right:0;left:0;}&lt;/style&gt;\n    &lt;script src=&quot;https://cdn.jsdelivr.net/npm/leaflet@1.9.3/dist/leaflet.js&quot;&gt;&lt;/script&gt;\n    &lt;script src=&quot;https://code.jquery.com/jquery-1.12.4.min.js&quot;&gt;&lt;/script&gt;\n    &lt;script src=&quot;https://cdn.jsdelivr.net/npm/bootstrap@5.2.2/dist/js/bootstrap.bundle.min.js&quot;&gt;&lt;/script&gt;\n    &lt;script src=&quot;https://cdnjs.cloudflare.com/ajax/libs/Leaflet.awesome-markers/2.0.2/leaflet.awesome-markers.js&quot;&gt;&lt;/script&gt;\n    &lt;link rel=&quot;stylesheet&quot; href=&quot;https://cdn.jsdelivr.net/npm/leaflet@1.9.3/dist/leaflet.css&quot;/&gt;\n    &lt;link rel=&quot;stylesheet&quot; href=&quot;https://cdn.jsdelivr.net/npm/bootstrap@5.2.2/dist/css/bootstrap.min.css&quot;/&gt;\n    &lt;link rel=&quot;stylesheet&quot; href=&quot;https://netdna.bootstrapcdn.com/bootstrap/3.0.0/css/bootstrap.min.css&quot;/&gt;\n    &lt;link rel=&quot;stylesheet&quot; href=&quot;https://cdn.jsdelivr.net/npm/@fortawesome/fontawesome-free@6.2.0/css/all.min.css&quot;/&gt;\n    &lt;link rel=&quot;stylesheet&quot; href=&quot;https://cdnjs.cloudflare.com/ajax/libs/Leaflet.awesome-markers/2.0.2/leaflet.awesome-markers.css&quot;/&gt;\n    &lt;link rel=&quot;stylesheet&quot; href=&quot;https://cdn.jsdelivr.net/gh/python-visualization/folium/folium/templates/leaflet.awesome.rotate.min.css&quot;/&gt;\n    \n            &lt;meta name=&quot;viewport&quot; content=&quot;width=device-width,\n                initial-scale=1.0, maximum-scale=1.0, user-scalable=no&quot; /&gt;\n            &lt;style&gt;\n                #map_4e9d3ad71e1a31c6bdeecbf9c9881401 {\n                    position: relative;\n                    width: 100.0%;\n                    height: 100.0%;\n                    left: 0.0%;\n                    top: 0.0%;\n                }\n                .leaflet-container { font-size: 1rem; }\n            &lt;/style&gt;\n        \n    &lt;script src=&quot;https://cdnjs.cloudflare.com/ajax/libs/leaflet.markercluster/1.1.0/leaflet.markercluster.js&quot;&gt;&lt;/script&gt;\n    &lt;link rel=&quot;stylesheet&quot; href=&quot;https://cdnjs.cloudflare.com/ajax/libs/leaflet.markercluster/1.1.0/MarkerCluster.css&quot;/&gt;\n    &lt;link rel=&quot;stylesheet&quot; href=&quot;https://cdnjs.cloudflare.com/ajax/libs/leaflet.markercluster/1.1.0/MarkerCluster.Default.css&quot;/&gt;\n&lt;/head&gt;\n&lt;body&gt;\n    \n    \n            &lt;div class=&quot;folium-map&quot; id=&quot;map_4e9d3ad71e1a31c6bdeecbf9c9881401&quot; &gt;&lt;/div&gt;\n        \n&lt;/body&gt;\n&lt;script&gt;\n    \n    \n            var map_4e9d3ad71e1a31c6bdeecbf9c9881401 = L.map(\n                &quot;map_4e9d3ad71e1a31c6bdeecbf9c9881401&quot;,\n                {\n                    center: [29.559684888503615, -95.0830971930759],\n                    crs: L.CRS.EPSG3857,\n                    zoom: 5,\n                    zoomControl: true,\n                    preferCanvas: false,\n                }\n            );\n\n            \n\n        \n    \n            var tile_layer_888ec1430201e194358f10e3b4fab89e = L.tileLayer(\n                &quot;https://{s}.tile.openstreetmap.org/{z}/{x}/{y}.png&quot;,\n                {&quot;attribution&quot;: &quot;Data by \\u0026copy; \\u003ca target=\\&quot;_blank\\&quot; href=\\&quot;http://openstreetmap.org\\&quot;\\u003eOpenStreetMap\\u003c/a\\u003e, under \\u003ca target=\\&quot;_blank\\&quot; href=\\&quot;http://www.openstreetmap.org/copyright\\&quot;\\u003eODbL\\u003c/a\\u003e.&quot;, &quot;detectRetina&quot;: false, &quot;maxNativeZoom&quot;: 18, &quot;maxZoom&quot;: 18, &quot;minZoom&quot;: 0, &quot;noWrap&quot;: false, &quot;opacity&quot;: 1, &quot;subdomains&quot;: &quot;abc&quot;, &quot;tms&quot;: false}\n            ).addTo(map_4e9d3ad71e1a31c6bdeecbf9c9881401);\n        \n    \n            var circle_3d19f5470a03ee828c89583093df23fc = L.circle(\n                [28.56230197, -80.57735648],\n                {&quot;bubblingMouseEvents&quot;: true, &quot;color&quot;: &quot;#d35400&quot;, &quot;dashArray&quot;: null, &quot;dashOffset&quot;: null, &quot;fill&quot;: true, &quot;fillColor&quot;: &quot;#d35400&quot;, &quot;fillOpacity&quot;: 0.2, &quot;fillRule&quot;: &quot;evenodd&quot;, &quot;lineCap&quot;: &quot;round&quot;, &quot;lineJoin&quot;: &quot;round&quot;, &quot;opacity&quot;: 1.0, &quot;radius&quot;: 1000, &quot;stroke&quot;: true, &quot;weight&quot;: 3}\n            ).addTo(map_4e9d3ad71e1a31c6bdeecbf9c9881401);\n        \n    \n        var popup_0e0f89ee803ae33c1cb5a241fc2a6ff8 = L.popup({&quot;maxWidth&quot;: &quot;100%&quot;});\n\n        \n            \n                var html_a87758c1d6968efdeb6f6634cd713479 = $(`&lt;div id=&quot;html_a87758c1d6968efdeb6f6634cd713479&quot; style=&quot;width: 100.0%; height: 100.0%;&quot;&gt;CCAFS LC-40&lt;/div&gt;`)[0];\n                popup_0e0f89ee803ae33c1cb5a241fc2a6ff8.setContent(html_a87758c1d6968efdeb6f6634cd713479);\n            \n        \n\n        circle_3d19f5470a03ee828c89583093df23fc.bindPopup(popup_0e0f89ee803ae33c1cb5a241fc2a6ff8)\n        ;\n\n        \n    \n    \n            var marker_a7b69c242ac314b3da78583280076a67 = L.marker(\n                [28.56230197, -80.57735648],\n                {}\n            ).addTo(map_4e9d3ad71e1a31c6bdeecbf9c9881401);\n        \n    \n            var div_icon_993d7cac1db6c5145b5c10feac1f61d4 = L.divIcon({&quot;className&quot;: &quot;empty&quot;, &quot;html&quot;: &quot;\\u003cdiv style=\\&quot;font-size: 12; color:#d35400;\\&quot;\\u003e\\u003cb\\u003eCCAFS LC-40\\u003c/b\\u003e\\u003c/div\\u003e&quot;, &quot;iconAnchor&quot;: [0, 0], &quot;iconSize&quot;: [20, 20]});\n            marker_a7b69c242ac314b3da78583280076a67.setIcon(div_icon_993d7cac1db6c5145b5c10feac1f61d4);\n        \n    \n            var circle_c148ab80b6c97f33fe6bd673117bb785 = L.circle(\n                [28.56319718, -80.57682003],\n                {&quot;bubblingMouseEvents&quot;: true, &quot;color&quot;: &quot;#d35400&quot;, &quot;dashArray&quot;: null, &quot;dashOffset&quot;: null, &quot;fill&quot;: true, &quot;fillColor&quot;: &quot;#d35400&quot;, &quot;fillOpacity&quot;: 0.2, &quot;fillRule&quot;: &quot;evenodd&quot;, &quot;lineCap&quot;: &quot;round&quot;, &quot;lineJoin&quot;: &quot;round&quot;, &quot;opacity&quot;: 1.0, &quot;radius&quot;: 1000, &quot;stroke&quot;: true, &quot;weight&quot;: 3}\n            ).addTo(map_4e9d3ad71e1a31c6bdeecbf9c9881401);\n        \n    \n        var popup_e92dfa2511c1cfad18d1bb3862d86f32 = L.popup({&quot;maxWidth&quot;: &quot;100%&quot;});\n\n        \n            \n                var html_08bb8719f103718f9964a6deb0920219 = $(`&lt;div id=&quot;html_08bb8719f103718f9964a6deb0920219&quot; style=&quot;width: 100.0%; height: 100.0%;&quot;&gt;CCAFS SLC-40&lt;/div&gt;`)[0];\n                popup_e92dfa2511c1cfad18d1bb3862d86f32.setContent(html_08bb8719f103718f9964a6deb0920219);\n            \n        \n\n        circle_c148ab80b6c97f33fe6bd673117bb785.bindPopup(popup_e92dfa2511c1cfad18d1bb3862d86f32)\n        ;\n\n        \n    \n    \n            var marker_b3c2d8afe2836324e1c5382bbbd6bbbf = L.marker(\n                [28.56319718, -80.57682003],\n                {}\n            ).addTo(map_4e9d3ad71e1a31c6bdeecbf9c9881401);\n        \n    \n            var div_icon_10eda96ffcbcee0dedf8da372a354a3f = L.divIcon({&quot;className&quot;: &quot;empty&quot;, &quot;html&quot;: &quot;\\u003cdiv style=\\&quot;font-size: 12; color:#d35400;\\&quot;\\u003e\\u003cb\\u003eCCAFS SLC-40\\u003c/b\\u003e\\u003c/div\\u003e&quot;, &quot;iconAnchor&quot;: [0, 0], &quot;iconSize&quot;: [20, 20]});\n            marker_b3c2d8afe2836324e1c5382bbbd6bbbf.setIcon(div_icon_10eda96ffcbcee0dedf8da372a354a3f);\n        \n    \n            var circle_46e70c7c38bb00263b0bd9362a81b204 = L.circle(\n                [28.57325457, -80.64689529],\n                {&quot;bubblingMouseEvents&quot;: true, &quot;color&quot;: &quot;#d35400&quot;, &quot;dashArray&quot;: null, &quot;dashOffset&quot;: null, &quot;fill&quot;: true, &quot;fillColor&quot;: &quot;#d35400&quot;, &quot;fillOpacity&quot;: 0.2, &quot;fillRule&quot;: &quot;evenodd&quot;, &quot;lineCap&quot;: &quot;round&quot;, &quot;lineJoin&quot;: &quot;round&quot;, &quot;opacity&quot;: 1.0, &quot;radius&quot;: 1000, &quot;stroke&quot;: true, &quot;weight&quot;: 3}\n            ).addTo(map_4e9d3ad71e1a31c6bdeecbf9c9881401);\n        \n    \n        var popup_d58e3fdcae169f2f520d1694eb23bc1a = L.popup({&quot;maxWidth&quot;: &quot;100%&quot;});\n\n        \n            \n                var html_0e39390191758918ca40058a00272fb4 = $(`&lt;div id=&quot;html_0e39390191758918ca40058a00272fb4&quot; style=&quot;width: 100.0%; height: 100.0%;&quot;&gt;KSC LC-39A&lt;/div&gt;`)[0];\n                popup_d58e3fdcae169f2f520d1694eb23bc1a.setContent(html_0e39390191758918ca40058a00272fb4);\n            \n        \n\n        circle_46e70c7c38bb00263b0bd9362a81b204.bindPopup(popup_d58e3fdcae169f2f520d1694eb23bc1a)\n        ;\n\n        \n    \n    \n            var marker_c0c25c8b0938d6a4ab46b636311e2a9b = L.marker(\n                [28.57325457, -80.64689529],\n                {}\n            ).addTo(map_4e9d3ad71e1a31c6bdeecbf9c9881401);\n        \n    \n            var div_icon_ba463fd4a5d3c04520075efe1947739a = L.divIcon({&quot;className&quot;: &quot;empty&quot;, &quot;html&quot;: &quot;\\u003cdiv style=\\&quot;font-size: 12; color:#d35400;\\&quot;\\u003e\\u003cb\\u003eKSC LC-39A\\u003c/b\\u003e\\u003c/div\\u003e&quot;, &quot;iconAnchor&quot;: [0, 0], &quot;iconSize&quot;: [20, 20]});\n            marker_c0c25c8b0938d6a4ab46b636311e2a9b.setIcon(div_icon_ba463fd4a5d3c04520075efe1947739a);\n        \n    \n            var circle_b9dd26dd0266e3be34df37a0e76cb09e = L.circle(\n                [34.63283416, -120.6107455],\n                {&quot;bubblingMouseEvents&quot;: true, &quot;color&quot;: &quot;#d35400&quot;, &quot;dashArray&quot;: null, &quot;dashOffset&quot;: null, &quot;fill&quot;: true, &quot;fillColor&quot;: &quot;#d35400&quot;, &quot;fillOpacity&quot;: 0.2, &quot;fillRule&quot;: &quot;evenodd&quot;, &quot;lineCap&quot;: &quot;round&quot;, &quot;lineJoin&quot;: &quot;round&quot;, &quot;opacity&quot;: 1.0, &quot;radius&quot;: 1000, &quot;stroke&quot;: true, &quot;weight&quot;: 3}\n            ).addTo(map_4e9d3ad71e1a31c6bdeecbf9c9881401);\n        \n    \n        var popup_ac23d722aabccc2e8be4cd140205814c = L.popup({&quot;maxWidth&quot;: &quot;100%&quot;});\n\n        \n            \n                var html_19042de900c3ccd782da0f1aab9c59ef = $(`&lt;div id=&quot;html_19042de900c3ccd782da0f1aab9c59ef&quot; style=&quot;width: 100.0%; height: 100.0%;&quot;&gt;VAFB SLC-4E&lt;/div&gt;`)[0];\n                popup_ac23d722aabccc2e8be4cd140205814c.setContent(html_19042de900c3ccd782da0f1aab9c59ef);\n            \n        \n\n        circle_b9dd26dd0266e3be34df37a0e76cb09e.bindPopup(popup_ac23d722aabccc2e8be4cd140205814c)\n        ;\n\n        \n    \n    \n            var marker_598832812db8039db1431aa5c820c6b8 = L.marker(\n                [34.63283416, -120.6107455],\n                {}\n            ).addTo(map_4e9d3ad71e1a31c6bdeecbf9c9881401);\n        \n    \n            var div_icon_ffb0948e2daf2a67531a24cdd28d8bdf = L.divIcon({&quot;className&quot;: &quot;empty&quot;, &quot;html&quot;: &quot;\\u003cdiv style=\\&quot;font-size: 12; color:#d35400;\\&quot;\\u003e\\u003cb\\u003eVAFB SLC-4E\\u003c/b\\u003e\\u003c/div\\u003e&quot;, &quot;iconAnchor&quot;: [0, 0], &quot;iconSize&quot;: [20, 20]});\n            marker_598832812db8039db1431aa5c820c6b8.setIcon(div_icon_ffb0948e2daf2a67531a24cdd28d8bdf);\n        \n    \n            var marker_cluster_734f8bfbab65a4fb0bf56d9c6e8f4c65 = L.markerClusterGroup(\n                {}\n            );\n            map_4e9d3ad71e1a31c6bdeecbf9c9881401.addLayer(marker_cluster_734f8bfbab65a4fb0bf56d9c6e8f4c65);\n        \n    \n            var marker_c3c8d08cdb6bfc20d9071e0d2cbca8a3 = L.marker(\n                [28.56230197, -80.57735648],\n                {}\n            ).addTo(marker_cluster_734f8bfbab65a4fb0bf56d9c6e8f4c65);\n        \n    \n            var icon_66636e7ea163d58300235577623668db = L.AwesomeMarkers.icon(\n                {&quot;extraClasses&quot;: &quot;fa-rotate-0&quot;, &quot;icon&quot;: &quot;info-sign&quot;, &quot;iconColor&quot;: &quot;red&quot;, &quot;markerColor&quot;: &quot;white&quot;, &quot;prefix&quot;: &quot;glyphicon&quot;}\n            );\n            marker_c3c8d08cdb6bfc20d9071e0d2cbca8a3.setIcon(icon_66636e7ea163d58300235577623668db);\n        \n    \n            var marker_a32a6417063eaeb45470717d38e8fa57 = L.marker(\n                [28.56230197, -80.57735648],\n                {}\n            ).addTo(marker_cluster_734f8bfbab65a4fb0bf56d9c6e8f4c65);\n        \n    \n            var icon_21fa936d957ce3f78f45539df28ef69b = L.AwesomeMarkers.icon(\n                {&quot;extraClasses&quot;: &quot;fa-rotate-0&quot;, &quot;icon&quot;: &quot;info-sign&quot;, &quot;iconColor&quot;: &quot;red&quot;, &quot;markerColor&quot;: &quot;white&quot;, &quot;prefix&quot;: &quot;glyphicon&quot;}\n            );\n            marker_a32a6417063eaeb45470717d38e8fa57.setIcon(icon_21fa936d957ce3f78f45539df28ef69b);\n        \n    \n            var marker_f6ff16a109914e996ae841cb2b73efb4 = L.marker(\n                [28.56230197, -80.57735648],\n                {}\n            ).addTo(marker_cluster_734f8bfbab65a4fb0bf56d9c6e8f4c65);\n        \n    \n            var icon_5428065cef03c3c6b6b22990ae414e05 = L.AwesomeMarkers.icon(\n                {&quot;extraClasses&quot;: &quot;fa-rotate-0&quot;, &quot;icon&quot;: &quot;info-sign&quot;, &quot;iconColor&quot;: &quot;red&quot;, &quot;markerColor&quot;: &quot;white&quot;, &quot;prefix&quot;: &quot;glyphicon&quot;}\n            );\n            marker_f6ff16a109914e996ae841cb2b73efb4.setIcon(icon_5428065cef03c3c6b6b22990ae414e05);\n        \n    \n            var marker_56d238aba4f71879551772b3cb7d1f9f = L.marker(\n                [28.56230197, -80.57735648],\n                {}\n            ).addTo(marker_cluster_734f8bfbab65a4fb0bf56d9c6e8f4c65);\n        \n    \n            var icon_f107737c71b524eb6401bc12e3769c22 = L.AwesomeMarkers.icon(\n                {&quot;extraClasses&quot;: &quot;fa-rotate-0&quot;, &quot;icon&quot;: &quot;info-sign&quot;, &quot;iconColor&quot;: &quot;red&quot;, &quot;markerColor&quot;: &quot;white&quot;, &quot;prefix&quot;: &quot;glyphicon&quot;}\n            );\n            marker_56d238aba4f71879551772b3cb7d1f9f.setIcon(icon_f107737c71b524eb6401bc12e3769c22);\n        \n    \n            var marker_dc1b565f5eaa85c4222ddf7f6c1335d9 = L.marker(\n                [28.56230197, -80.57735648],\n                {}\n            ).addTo(marker_cluster_734f8bfbab65a4fb0bf56d9c6e8f4c65);\n        \n    \n            var icon_a7524736bf522894aae528f68a884bc4 = L.AwesomeMarkers.icon(\n                {&quot;extraClasses&quot;: &quot;fa-rotate-0&quot;, &quot;icon&quot;: &quot;info-sign&quot;, &quot;iconColor&quot;: &quot;red&quot;, &quot;markerColor&quot;: &quot;white&quot;, &quot;prefix&quot;: &quot;glyphicon&quot;}\n            );\n            marker_dc1b565f5eaa85c4222ddf7f6c1335d9.setIcon(icon_a7524736bf522894aae528f68a884bc4);\n        \n    \n            var marker_70731052e111207f16b4803196c53fe1 = L.marker(\n                [28.56230197, -80.57735648],\n                {}\n            ).addTo(marker_cluster_734f8bfbab65a4fb0bf56d9c6e8f4c65);\n        \n    \n            var icon_023c19ad98dea89f67b2077cb55980bf = L.AwesomeMarkers.icon(\n                {&quot;extraClasses&quot;: &quot;fa-rotate-0&quot;, &quot;icon&quot;: &quot;info-sign&quot;, &quot;iconColor&quot;: &quot;red&quot;, &quot;markerColor&quot;: &quot;white&quot;, &quot;prefix&quot;: &quot;glyphicon&quot;}\n            );\n            marker_70731052e111207f16b4803196c53fe1.setIcon(icon_023c19ad98dea89f67b2077cb55980bf);\n        \n    \n            var marker_f8cfadf9500b99806bd0c72bd3aab876 = L.marker(\n                [28.56230197, -80.57735648],\n                {}\n            ).addTo(marker_cluster_734f8bfbab65a4fb0bf56d9c6e8f4c65);\n        \n    \n            var icon_29fdc5412dac341fd4181afafa405420 = L.AwesomeMarkers.icon(\n                {&quot;extraClasses&quot;: &quot;fa-rotate-0&quot;, &quot;icon&quot;: &quot;info-sign&quot;, &quot;iconColor&quot;: &quot;red&quot;, &quot;markerColor&quot;: &quot;white&quot;, &quot;prefix&quot;: &quot;glyphicon&quot;}\n            );\n            marker_f8cfadf9500b99806bd0c72bd3aab876.setIcon(icon_29fdc5412dac341fd4181afafa405420);\n        \n    \n            var marker_7a9870d03faf6c53d1620f3d72e33796 = L.marker(\n                [28.56230197, -80.57735648],\n                {}\n            ).addTo(marker_cluster_734f8bfbab65a4fb0bf56d9c6e8f4c65);\n        \n    \n            var icon_1a71b04201d3fd0d521f492fb75ea2c9 = L.AwesomeMarkers.icon(\n                {&quot;extraClasses&quot;: &quot;fa-rotate-0&quot;, &quot;icon&quot;: &quot;info-sign&quot;, &quot;iconColor&quot;: &quot;red&quot;, &quot;markerColor&quot;: &quot;white&quot;, &quot;prefix&quot;: &quot;glyphicon&quot;}\n            );\n            marker_7a9870d03faf6c53d1620f3d72e33796.setIcon(icon_1a71b04201d3fd0d521f492fb75ea2c9);\n        \n    \n            var marker_1e21353895386ea5a2736fd7fb063f9d = L.marker(\n                [28.56230197, -80.57735648],\n                {}\n            ).addTo(marker_cluster_734f8bfbab65a4fb0bf56d9c6e8f4c65);\n        \n    \n            var icon_fd56b71997ac03acc22e05a839e8821d = L.AwesomeMarkers.icon(\n                {&quot;extraClasses&quot;: &quot;fa-rotate-0&quot;, &quot;icon&quot;: &quot;info-sign&quot;, &quot;iconColor&quot;: &quot;red&quot;, &quot;markerColor&quot;: &quot;white&quot;, &quot;prefix&quot;: &quot;glyphicon&quot;}\n            );\n            marker_1e21353895386ea5a2736fd7fb063f9d.setIcon(icon_fd56b71997ac03acc22e05a839e8821d);\n        \n    \n            var marker_b633525950d9c04e4ea9fa95edd98cf0 = L.marker(\n                [28.56230197, -80.57735648],\n                {}\n            ).addTo(marker_cluster_734f8bfbab65a4fb0bf56d9c6e8f4c65);\n        \n    \n            var icon_27133ac317db96a6073f4a69fffb7a38 = L.AwesomeMarkers.icon(\n                {&quot;extraClasses&quot;: &quot;fa-rotate-0&quot;, &quot;icon&quot;: &quot;info-sign&quot;, &quot;iconColor&quot;: &quot;red&quot;, &quot;markerColor&quot;: &quot;white&quot;, &quot;prefix&quot;: &quot;glyphicon&quot;}\n            );\n            marker_b633525950d9c04e4ea9fa95edd98cf0.setIcon(icon_27133ac317db96a6073f4a69fffb7a38);\n        \n    \n            var marker_1b04ead78f82acc82b6fa1f242e9292c = L.marker(\n                [28.56230197, -80.57735648],\n                {}\n            ).addTo(marker_cluster_734f8bfbab65a4fb0bf56d9c6e8f4c65);\n        \n    \n            var icon_d122a66681b91776165931999031f421 = L.AwesomeMarkers.icon(\n                {&quot;extraClasses&quot;: &quot;fa-rotate-0&quot;, &quot;icon&quot;: &quot;info-sign&quot;, &quot;iconColor&quot;: &quot;red&quot;, &quot;markerColor&quot;: &quot;white&quot;, &quot;prefix&quot;: &quot;glyphicon&quot;}\n            );\n            marker_1b04ead78f82acc82b6fa1f242e9292c.setIcon(icon_d122a66681b91776165931999031f421);\n        \n    \n            var marker_96d4b27cdd44437c54f9746527c97015 = L.marker(\n                [28.56230197, -80.57735648],\n                {}\n            ).addTo(marker_cluster_734f8bfbab65a4fb0bf56d9c6e8f4c65);\n        \n    \n            var icon_0aafb4fb2a6a6c7e2b1dca612757eb80 = L.AwesomeMarkers.icon(\n                {&quot;extraClasses&quot;: &quot;fa-rotate-0&quot;, &quot;icon&quot;: &quot;info-sign&quot;, &quot;iconColor&quot;: &quot;red&quot;, &quot;markerColor&quot;: &quot;white&quot;, &quot;prefix&quot;: &quot;glyphicon&quot;}\n            );\n            marker_96d4b27cdd44437c54f9746527c97015.setIcon(icon_0aafb4fb2a6a6c7e2b1dca612757eb80);\n        \n    \n            var marker_613578837e3bf63632a7f6e0dd256f0a = L.marker(\n                [28.56230197, -80.57735648],\n                {}\n            ).addTo(marker_cluster_734f8bfbab65a4fb0bf56d9c6e8f4c65);\n        \n    \n            var icon_bd5e26f829dcbc58585b2ad6d25192b3 = L.AwesomeMarkers.icon(\n                {&quot;extraClasses&quot;: &quot;fa-rotate-0&quot;, &quot;icon&quot;: &quot;info-sign&quot;, &quot;iconColor&quot;: &quot;red&quot;, &quot;markerColor&quot;: &quot;white&quot;, &quot;prefix&quot;: &quot;glyphicon&quot;}\n            );\n            marker_613578837e3bf63632a7f6e0dd256f0a.setIcon(icon_bd5e26f829dcbc58585b2ad6d25192b3);\n        \n    \n            var marker_9613904f9f1daadc54b883a4161a2e97 = L.marker(\n                [28.56230197, -80.57735648],\n                {}\n            ).addTo(marker_cluster_734f8bfbab65a4fb0bf56d9c6e8f4c65);\n        \n    \n            var icon_e34f1a72314afb6368e87cae07b58682 = L.AwesomeMarkers.icon(\n                {&quot;extraClasses&quot;: &quot;fa-rotate-0&quot;, &quot;icon&quot;: &quot;info-sign&quot;, &quot;iconColor&quot;: &quot;red&quot;, &quot;markerColor&quot;: &quot;white&quot;, &quot;prefix&quot;: &quot;glyphicon&quot;}\n            );\n            marker_9613904f9f1daadc54b883a4161a2e97.setIcon(icon_e34f1a72314afb6368e87cae07b58682);\n        \n    \n            var marker_de222afb093628c8053fd16fc000722f = L.marker(\n                [28.56230197, -80.57735648],\n                {}\n            ).addTo(marker_cluster_734f8bfbab65a4fb0bf56d9c6e8f4c65);\n        \n    \n            var icon_8c1aa95b16289d328ecb98ef4339701d = L.AwesomeMarkers.icon(\n                {&quot;extraClasses&quot;: &quot;fa-rotate-0&quot;, &quot;icon&quot;: &quot;info-sign&quot;, &quot;iconColor&quot;: &quot;red&quot;, &quot;markerColor&quot;: &quot;white&quot;, &quot;prefix&quot;: &quot;glyphicon&quot;}\n            );\n            marker_de222afb093628c8053fd16fc000722f.setIcon(icon_8c1aa95b16289d328ecb98ef4339701d);\n        \n    \n            var marker_f865c4b892fa9d940c42dd0339170353 = L.marker(\n                [28.56230197, -80.57735648],\n                {}\n            ).addTo(marker_cluster_734f8bfbab65a4fb0bf56d9c6e8f4c65);\n        \n    \n            var icon_f0e5c0aeef4b990cefb2239baeafd143 = L.AwesomeMarkers.icon(\n                {&quot;extraClasses&quot;: &quot;fa-rotate-0&quot;, &quot;icon&quot;: &quot;info-sign&quot;, &quot;iconColor&quot;: &quot;red&quot;, &quot;markerColor&quot;: &quot;white&quot;, &quot;prefix&quot;: &quot;glyphicon&quot;}\n            );\n            marker_f865c4b892fa9d940c42dd0339170353.setIcon(icon_f0e5c0aeef4b990cefb2239baeafd143);\n        \n    \n            var marker_9f0a095d3cd162fac757dca8dc0564ed = L.marker(\n                [28.56230197, -80.57735648],\n                {}\n            ).addTo(marker_cluster_734f8bfbab65a4fb0bf56d9c6e8f4c65);\n        \n    \n            var icon_df27146a3233632ba9863287cc25059a = L.AwesomeMarkers.icon(\n                {&quot;extraClasses&quot;: &quot;fa-rotate-0&quot;, &quot;icon&quot;: &quot;info-sign&quot;, &quot;iconColor&quot;: &quot;red&quot;, &quot;markerColor&quot;: &quot;white&quot;, &quot;prefix&quot;: &quot;glyphicon&quot;}\n            );\n            marker_9f0a095d3cd162fac757dca8dc0564ed.setIcon(icon_df27146a3233632ba9863287cc25059a);\n        \n    \n            var marker_ce28d47c764c772d300116a74f91191c = L.marker(\n                [28.56230197, -80.57735648],\n                {}\n            ).addTo(marker_cluster_734f8bfbab65a4fb0bf56d9c6e8f4c65);\n        \n    \n            var icon_dfe50f49fedc683f0ea7c969e46372f8 = L.AwesomeMarkers.icon(\n                {&quot;extraClasses&quot;: &quot;fa-rotate-0&quot;, &quot;icon&quot;: &quot;info-sign&quot;, &quot;iconColor&quot;: &quot;green&quot;, &quot;markerColor&quot;: &quot;white&quot;, &quot;prefix&quot;: &quot;glyphicon&quot;}\n            );\n            marker_ce28d47c764c772d300116a74f91191c.setIcon(icon_dfe50f49fedc683f0ea7c969e46372f8);\n        \n    \n            var marker_ff6efb7b0f81818df27d524f36cd5477 = L.marker(\n                [28.56230197, -80.57735648],\n                {}\n            ).addTo(marker_cluster_734f8bfbab65a4fb0bf56d9c6e8f4c65);\n        \n    \n            var icon_65f568afcf5ccd539f6f03ba0377a4bf = L.AwesomeMarkers.icon(\n                {&quot;extraClasses&quot;: &quot;fa-rotate-0&quot;, &quot;icon&quot;: &quot;info-sign&quot;, &quot;iconColor&quot;: &quot;green&quot;, &quot;markerColor&quot;: &quot;white&quot;, &quot;prefix&quot;: &quot;glyphicon&quot;}\n            );\n            marker_ff6efb7b0f81818df27d524f36cd5477.setIcon(icon_65f568afcf5ccd539f6f03ba0377a4bf);\n        \n    \n            var marker_77785c9cf2ae8dd99ffc4a961f83ccd1 = L.marker(\n                [28.56230197, -80.57735648],\n                {}\n            ).addTo(marker_cluster_734f8bfbab65a4fb0bf56d9c6e8f4c65);\n        \n    \n            var icon_82a529cfd574e35d170a2e6d41bcb90f = L.AwesomeMarkers.icon(\n                {&quot;extraClasses&quot;: &quot;fa-rotate-0&quot;, &quot;icon&quot;: &quot;info-sign&quot;, &quot;iconColor&quot;: &quot;red&quot;, &quot;markerColor&quot;: &quot;white&quot;, &quot;prefix&quot;: &quot;glyphicon&quot;}\n            );\n            marker_77785c9cf2ae8dd99ffc4a961f83ccd1.setIcon(icon_82a529cfd574e35d170a2e6d41bcb90f);\n        \n    \n            var marker_1f31e8ff60802b73710b5ed3918d2b13 = L.marker(\n                [28.56230197, -80.57735648],\n                {}\n            ).addTo(marker_cluster_734f8bfbab65a4fb0bf56d9c6e8f4c65);\n        \n    \n            var icon_903d42f566edc9598148638e86c35b6a = L.AwesomeMarkers.icon(\n                {&quot;extraClasses&quot;: &quot;fa-rotate-0&quot;, &quot;icon&quot;: &quot;info-sign&quot;, &quot;iconColor&quot;: &quot;green&quot;, &quot;markerColor&quot;: &quot;white&quot;, &quot;prefix&quot;: &quot;glyphicon&quot;}\n            );\n            marker_1f31e8ff60802b73710b5ed3918d2b13.setIcon(icon_903d42f566edc9598148638e86c35b6a);\n        \n    \n            var marker_af7bc89683ed606532514f64dcb12c79 = L.marker(\n                [28.56230197, -80.57735648],\n                {}\n            ).addTo(marker_cluster_734f8bfbab65a4fb0bf56d9c6e8f4c65);\n        \n    \n            var icon_1bf1c15502990e0d12763d84fa2c9abc = L.AwesomeMarkers.icon(\n                {&quot;extraClasses&quot;: &quot;fa-rotate-0&quot;, &quot;icon&quot;: &quot;info-sign&quot;, &quot;iconColor&quot;: &quot;green&quot;, &quot;markerColor&quot;: &quot;white&quot;, &quot;prefix&quot;: &quot;glyphicon&quot;}\n            );\n            marker_af7bc89683ed606532514f64dcb12c79.setIcon(icon_1bf1c15502990e0d12763d84fa2c9abc);\n        \n    \n            var marker_3d1597bf85579f4f80846a4e03e47968 = L.marker(\n                [28.56230197, -80.57735648],\n                {}\n            ).addTo(marker_cluster_734f8bfbab65a4fb0bf56d9c6e8f4c65);\n        \n    \n            var icon_6f726c77a1f2d709f16637aed2cfa384 = L.AwesomeMarkers.icon(\n                {&quot;extraClasses&quot;: &quot;fa-rotate-0&quot;, &quot;icon&quot;: &quot;info-sign&quot;, &quot;iconColor&quot;: &quot;green&quot;, &quot;markerColor&quot;: &quot;white&quot;, &quot;prefix&quot;: &quot;glyphicon&quot;}\n            );\n            marker_3d1597bf85579f4f80846a4e03e47968.setIcon(icon_6f726c77a1f2d709f16637aed2cfa384);\n        \n    \n            var marker_df85b81f048266485f4bd5351d50fb8b = L.marker(\n                [28.56230197, -80.57735648],\n                {}\n            ).addTo(marker_cluster_734f8bfbab65a4fb0bf56d9c6e8f4c65);\n        \n    \n            var icon_4fcfa7e4b9076dfa8dc185e256247cf4 = L.AwesomeMarkers.icon(\n                {&quot;extraClasses&quot;: &quot;fa-rotate-0&quot;, &quot;icon&quot;: &quot;info-sign&quot;, &quot;iconColor&quot;: &quot;red&quot;, &quot;markerColor&quot;: &quot;white&quot;, &quot;prefix&quot;: &quot;glyphicon&quot;}\n            );\n            marker_df85b81f048266485f4bd5351d50fb8b.setIcon(icon_4fcfa7e4b9076dfa8dc185e256247cf4);\n        \n    \n            var marker_84a60dcf2d64a4ed06f84fa9804244ea = L.marker(\n                [28.56230197, -80.57735648],\n                {}\n            ).addTo(marker_cluster_734f8bfbab65a4fb0bf56d9c6e8f4c65);\n        \n    \n            var icon_a74170e15c2e6c5dcf3d4c75d46c68a8 = L.AwesomeMarkers.icon(\n                {&quot;extraClasses&quot;: &quot;fa-rotate-0&quot;, &quot;icon&quot;: &quot;info-sign&quot;, &quot;iconColor&quot;: &quot;green&quot;, &quot;markerColor&quot;: &quot;white&quot;, &quot;prefix&quot;: &quot;glyphicon&quot;}\n            );\n            marker_84a60dcf2d64a4ed06f84fa9804244ea.setIcon(icon_a74170e15c2e6c5dcf3d4c75d46c68a8);\n        \n    \n            var marker_0b0cf3d8bedccdf8d454a814a51f3e17 = L.marker(\n                [28.56230197, -80.57735648],\n                {}\n            ).addTo(marker_cluster_734f8bfbab65a4fb0bf56d9c6e8f4c65);\n        \n    \n            var icon_3b4a28dc2154e73f79665a5dcbc1ff6e = L.AwesomeMarkers.icon(\n                {&quot;extraClasses&quot;: &quot;fa-rotate-0&quot;, &quot;icon&quot;: &quot;info-sign&quot;, &quot;iconColor&quot;: &quot;green&quot;, &quot;markerColor&quot;: &quot;white&quot;, &quot;prefix&quot;: &quot;glyphicon&quot;}\n            );\n            marker_0b0cf3d8bedccdf8d454a814a51f3e17.setIcon(icon_3b4a28dc2154e73f79665a5dcbc1ff6e);\n        \n    \n            var marker_de4e0847079999036cc8daf5ea4eeca8 = L.marker(\n                [34.63283416, -120.6107455],\n                {}\n            ).addTo(marker_cluster_734f8bfbab65a4fb0bf56d9c6e8f4c65);\n        \n    \n            var icon_53ef9b9599399562b62d3f67fc4356e0 = L.AwesomeMarkers.icon(\n                {&quot;extraClasses&quot;: &quot;fa-rotate-0&quot;, &quot;icon&quot;: &quot;info-sign&quot;, &quot;iconColor&quot;: &quot;red&quot;, &quot;markerColor&quot;: &quot;white&quot;, &quot;prefix&quot;: &quot;glyphicon&quot;}\n            );\n            marker_de4e0847079999036cc8daf5ea4eeca8.setIcon(icon_53ef9b9599399562b62d3f67fc4356e0);\n        \n    \n            var marker_58e9190635c7c8ddd68521da3201d21c = L.marker(\n                [34.63283416, -120.6107455],\n                {}\n            ).addTo(marker_cluster_734f8bfbab65a4fb0bf56d9c6e8f4c65);\n        \n    \n            var icon_1efdb947b78388c133e46dc8680ea073 = L.AwesomeMarkers.icon(\n                {&quot;extraClasses&quot;: &quot;fa-rotate-0&quot;, &quot;icon&quot;: &quot;info-sign&quot;, &quot;iconColor&quot;: &quot;red&quot;, &quot;markerColor&quot;: &quot;white&quot;, &quot;prefix&quot;: &quot;glyphicon&quot;}\n            );\n            marker_58e9190635c7c8ddd68521da3201d21c.setIcon(icon_1efdb947b78388c133e46dc8680ea073);\n        \n    \n            var marker_144e6b0e2c1ecaf25eb851105ca36094 = L.marker(\n                [34.63283416, -120.6107455],\n                {}\n            ).addTo(marker_cluster_734f8bfbab65a4fb0bf56d9c6e8f4c65);\n        \n    \n            var icon_4ad8e9162060cc9f1ca5cc9045bca458 = L.AwesomeMarkers.icon(\n                {&quot;extraClasses&quot;: &quot;fa-rotate-0&quot;, &quot;icon&quot;: &quot;info-sign&quot;, &quot;iconColor&quot;: &quot;green&quot;, &quot;markerColor&quot;: &quot;white&quot;, &quot;prefix&quot;: &quot;glyphicon&quot;}\n            );\n            marker_144e6b0e2c1ecaf25eb851105ca36094.setIcon(icon_4ad8e9162060cc9f1ca5cc9045bca458);\n        \n    \n            var marker_371f7616fbd788580f49c81de02365ce = L.marker(\n                [34.63283416, -120.6107455],\n                {}\n            ).addTo(marker_cluster_734f8bfbab65a4fb0bf56d9c6e8f4c65);\n        \n    \n            var icon_8694a013f5640f69bc4eaf8ab0388b3e = L.AwesomeMarkers.icon(\n                {&quot;extraClasses&quot;: &quot;fa-rotate-0&quot;, &quot;icon&quot;: &quot;info-sign&quot;, &quot;iconColor&quot;: &quot;green&quot;, &quot;markerColor&quot;: &quot;white&quot;, &quot;prefix&quot;: &quot;glyphicon&quot;}\n            );\n            marker_371f7616fbd788580f49c81de02365ce.setIcon(icon_8694a013f5640f69bc4eaf8ab0388b3e);\n        \n    \n            var marker_7a1cd7a1839df758854b1dec6c48a4a5 = L.marker(\n                [34.63283416, -120.6107455],\n                {}\n            ).addTo(marker_cluster_734f8bfbab65a4fb0bf56d9c6e8f4c65);\n        \n    \n            var icon_b71d2281847bfe6637fcf70a25a3f709 = L.AwesomeMarkers.icon(\n                {&quot;extraClasses&quot;: &quot;fa-rotate-0&quot;, &quot;icon&quot;: &quot;info-sign&quot;, &quot;iconColor&quot;: &quot;green&quot;, &quot;markerColor&quot;: &quot;white&quot;, &quot;prefix&quot;: &quot;glyphicon&quot;}\n            );\n            marker_7a1cd7a1839df758854b1dec6c48a4a5.setIcon(icon_b71d2281847bfe6637fcf70a25a3f709);\n        \n    \n            var marker_ed4b7f02d35ed8b6ebb9cd75b0b7e301 = L.marker(\n                [34.63283416, -120.6107455],\n                {}\n            ).addTo(marker_cluster_734f8bfbab65a4fb0bf56d9c6e8f4c65);\n        \n    \n            var icon_8cf375fef4c77f06322e7581375f3f37 = L.AwesomeMarkers.icon(\n                {&quot;extraClasses&quot;: &quot;fa-rotate-0&quot;, &quot;icon&quot;: &quot;info-sign&quot;, &quot;iconColor&quot;: &quot;green&quot;, &quot;markerColor&quot;: &quot;white&quot;, &quot;prefix&quot;: &quot;glyphicon&quot;}\n            );\n            marker_ed4b7f02d35ed8b6ebb9cd75b0b7e301.setIcon(icon_8cf375fef4c77f06322e7581375f3f37);\n        \n    \n            var marker_692bee43c2636efc8f18d851059f26c9 = L.marker(\n                [34.63283416, -120.6107455],\n                {}\n            ).addTo(marker_cluster_734f8bfbab65a4fb0bf56d9c6e8f4c65);\n        \n    \n            var icon_6fa4fdf9a0d0e8f28b51a7bd93186e6f = L.AwesomeMarkers.icon(\n                {&quot;extraClasses&quot;: &quot;fa-rotate-0&quot;, &quot;icon&quot;: &quot;info-sign&quot;, &quot;iconColor&quot;: &quot;red&quot;, &quot;markerColor&quot;: &quot;white&quot;, &quot;prefix&quot;: &quot;glyphicon&quot;}\n            );\n            marker_692bee43c2636efc8f18d851059f26c9.setIcon(icon_6fa4fdf9a0d0e8f28b51a7bd93186e6f);\n        \n    \n            var marker_b97f800f95755eed1ae5906ecc844ed5 = L.marker(\n                [34.63283416, -120.6107455],\n                {}\n            ).addTo(marker_cluster_734f8bfbab65a4fb0bf56d9c6e8f4c65);\n        \n    \n            var icon_c70fed32a2a35b0db13fb1e650b72ba5 = L.AwesomeMarkers.icon(\n                {&quot;extraClasses&quot;: &quot;fa-rotate-0&quot;, &quot;icon&quot;: &quot;info-sign&quot;, &quot;iconColor&quot;: &quot;red&quot;, &quot;markerColor&quot;: &quot;white&quot;, &quot;prefix&quot;: &quot;glyphicon&quot;}\n            );\n            marker_b97f800f95755eed1ae5906ecc844ed5.setIcon(icon_c70fed32a2a35b0db13fb1e650b72ba5);\n        \n    \n            var marker_dba370637a1ee08d736fc46bb61764ff = L.marker(\n                [34.63283416, -120.6107455],\n                {}\n            ).addTo(marker_cluster_734f8bfbab65a4fb0bf56d9c6e8f4c65);\n        \n    \n            var icon_8d533d5dbf829808d3a97d5dc063d691 = L.AwesomeMarkers.icon(\n                {&quot;extraClasses&quot;: &quot;fa-rotate-0&quot;, &quot;icon&quot;: &quot;info-sign&quot;, &quot;iconColor&quot;: &quot;red&quot;, &quot;markerColor&quot;: &quot;white&quot;, &quot;prefix&quot;: &quot;glyphicon&quot;}\n            );\n            marker_dba370637a1ee08d736fc46bb61764ff.setIcon(icon_8d533d5dbf829808d3a97d5dc063d691);\n        \n    \n            var marker_e02df920b8397eeb908e091f1ec1fa8f = L.marker(\n                [34.63283416, -120.6107455],\n                {}\n            ).addTo(marker_cluster_734f8bfbab65a4fb0bf56d9c6e8f4c65);\n        \n    \n            var icon_48f74c324d0378081aa226d2308f48ea = L.AwesomeMarkers.icon(\n                {&quot;extraClasses&quot;: &quot;fa-rotate-0&quot;, &quot;icon&quot;: &quot;info-sign&quot;, &quot;iconColor&quot;: &quot;red&quot;, &quot;markerColor&quot;: &quot;white&quot;, &quot;prefix&quot;: &quot;glyphicon&quot;}\n            );\n            marker_e02df920b8397eeb908e091f1ec1fa8f.setIcon(icon_48f74c324d0378081aa226d2308f48ea);\n        \n    \n            var marker_6bab0efc1b730d3f5199473ce6f6f679 = L.marker(\n                [28.57325457, -80.64689529],\n                {}\n            ).addTo(marker_cluster_734f8bfbab65a4fb0bf56d9c6e8f4c65);\n        \n    \n            var icon_68da14b5eb9ffd99b080f0f52c220882 = L.AwesomeMarkers.icon(\n                {&quot;extraClasses&quot;: &quot;fa-rotate-0&quot;, &quot;icon&quot;: &quot;info-sign&quot;, &quot;iconColor&quot;: &quot;green&quot;, &quot;markerColor&quot;: &quot;white&quot;, &quot;prefix&quot;: &quot;glyphicon&quot;}\n            );\n            marker_6bab0efc1b730d3f5199473ce6f6f679.setIcon(icon_68da14b5eb9ffd99b080f0f52c220882);\n        \n    \n            var marker_5e18e995b3ea887fcb2cbbcb73c06644 = L.marker(\n                [28.57325457, -80.64689529],\n                {}\n            ).addTo(marker_cluster_734f8bfbab65a4fb0bf56d9c6e8f4c65);\n        \n    \n            var icon_06b4d88062ca2f53f082c77ecdbe97b3 = L.AwesomeMarkers.icon(\n                {&quot;extraClasses&quot;: &quot;fa-rotate-0&quot;, &quot;icon&quot;: &quot;info-sign&quot;, &quot;iconColor&quot;: &quot;red&quot;, &quot;markerColor&quot;: &quot;white&quot;, &quot;prefix&quot;: &quot;glyphicon&quot;}\n            );\n            marker_5e18e995b3ea887fcb2cbbcb73c06644.setIcon(icon_06b4d88062ca2f53f082c77ecdbe97b3);\n        \n    \n            var marker_bd3d6b6e3f010d7f1ee8474215ab29e3 = L.marker(\n                [28.57325457, -80.64689529],\n                {}\n            ).addTo(marker_cluster_734f8bfbab65a4fb0bf56d9c6e8f4c65);\n        \n    \n            var icon_5f1725718a9fcdd6d3e5a14840eb98a9 = L.AwesomeMarkers.icon(\n                {&quot;extraClasses&quot;: &quot;fa-rotate-0&quot;, &quot;icon&quot;: &quot;info-sign&quot;, &quot;iconColor&quot;: &quot;green&quot;, &quot;markerColor&quot;: &quot;white&quot;, &quot;prefix&quot;: &quot;glyphicon&quot;}\n            );\n            marker_bd3d6b6e3f010d7f1ee8474215ab29e3.setIcon(icon_5f1725718a9fcdd6d3e5a14840eb98a9);\n        \n    \n            var marker_307255c8b78329dc1c4392669950d9d3 = L.marker(\n                [28.57325457, -80.64689529],\n                {}\n            ).addTo(marker_cluster_734f8bfbab65a4fb0bf56d9c6e8f4c65);\n        \n    \n            var icon_2e39304d7104b59ad275093f4ccf52fb = L.AwesomeMarkers.icon(\n                {&quot;extraClasses&quot;: &quot;fa-rotate-0&quot;, &quot;icon&quot;: &quot;info-sign&quot;, &quot;iconColor&quot;: &quot;green&quot;, &quot;markerColor&quot;: &quot;white&quot;, &quot;prefix&quot;: &quot;glyphicon&quot;}\n            );\n            marker_307255c8b78329dc1c4392669950d9d3.setIcon(icon_2e39304d7104b59ad275093f4ccf52fb);\n        \n    \n            var marker_c44165f99e8c747dda60460ee5f4bca4 = L.marker(\n                [28.57325457, -80.64689529],\n                {}\n            ).addTo(marker_cluster_734f8bfbab65a4fb0bf56d9c6e8f4c65);\n        \n    \n            var icon_b139ee08d883d663774bf601759b704c = L.AwesomeMarkers.icon(\n                {&quot;extraClasses&quot;: &quot;fa-rotate-0&quot;, &quot;icon&quot;: &quot;info-sign&quot;, &quot;iconColor&quot;: &quot;red&quot;, &quot;markerColor&quot;: &quot;white&quot;, &quot;prefix&quot;: &quot;glyphicon&quot;}\n            );\n            marker_c44165f99e8c747dda60460ee5f4bca4.setIcon(icon_b139ee08d883d663774bf601759b704c);\n        \n    \n            var marker_a43ab867648b8beedeb6a048f540cd9f = L.marker(\n                [28.57325457, -80.64689529],\n                {}\n            ).addTo(marker_cluster_734f8bfbab65a4fb0bf56d9c6e8f4c65);\n        \n    \n            var icon_a7efd266d3135c7f7f2365a4cb8e6150 = L.AwesomeMarkers.icon(\n                {&quot;extraClasses&quot;: &quot;fa-rotate-0&quot;, &quot;icon&quot;: &quot;info-sign&quot;, &quot;iconColor&quot;: &quot;green&quot;, &quot;markerColor&quot;: &quot;white&quot;, &quot;prefix&quot;: &quot;glyphicon&quot;}\n            );\n            marker_a43ab867648b8beedeb6a048f540cd9f.setIcon(icon_a7efd266d3135c7f7f2365a4cb8e6150);\n        \n    \n            var marker_76a9285b28ebe233c9588a593c74379e = L.marker(\n                [28.57325457, -80.64689529],\n                {}\n            ).addTo(marker_cluster_734f8bfbab65a4fb0bf56d9c6e8f4c65);\n        \n    \n            var icon_01e2ad6428a92be2d7d2c3f90b551257 = L.AwesomeMarkers.icon(\n                {&quot;extraClasses&quot;: &quot;fa-rotate-0&quot;, &quot;icon&quot;: &quot;info-sign&quot;, &quot;iconColor&quot;: &quot;green&quot;, &quot;markerColor&quot;: &quot;white&quot;, &quot;prefix&quot;: &quot;glyphicon&quot;}\n            );\n            marker_76a9285b28ebe233c9588a593c74379e.setIcon(icon_01e2ad6428a92be2d7d2c3f90b551257);\n        \n    \n            var marker_ab17495713089d782e245aee5c6f5f37 = L.marker(\n                [28.57325457, -80.64689529],\n                {}\n            ).addTo(marker_cluster_734f8bfbab65a4fb0bf56d9c6e8f4c65);\n        \n    \n            var icon_61a51751f64422c33c3d05157a3711f6 = L.AwesomeMarkers.icon(\n                {&quot;extraClasses&quot;: &quot;fa-rotate-0&quot;, &quot;icon&quot;: &quot;info-sign&quot;, &quot;iconColor&quot;: &quot;red&quot;, &quot;markerColor&quot;: &quot;white&quot;, &quot;prefix&quot;: &quot;glyphicon&quot;}\n            );\n            marker_ab17495713089d782e245aee5c6f5f37.setIcon(icon_61a51751f64422c33c3d05157a3711f6);\n        \n    \n            var marker_944d0e5b771bb550321e3e6d08a7fd54 = L.marker(\n                [28.57325457, -80.64689529],\n                {}\n            ).addTo(marker_cluster_734f8bfbab65a4fb0bf56d9c6e8f4c65);\n        \n    \n            var icon_3b4b43d8ea180787f7585b76cf362a53 = L.AwesomeMarkers.icon(\n                {&quot;extraClasses&quot;: &quot;fa-rotate-0&quot;, &quot;icon&quot;: &quot;info-sign&quot;, &quot;iconColor&quot;: &quot;green&quot;, &quot;markerColor&quot;: &quot;white&quot;, &quot;prefix&quot;: &quot;glyphicon&quot;}\n            );\n            marker_944d0e5b771bb550321e3e6d08a7fd54.setIcon(icon_3b4b43d8ea180787f7585b76cf362a53);\n        \n    \n            var marker_1c27d31f7e6ad563854deba280c80078 = L.marker(\n                [28.57325457, -80.64689529],\n                {}\n            ).addTo(marker_cluster_734f8bfbab65a4fb0bf56d9c6e8f4c65);\n        \n    \n            var icon_bf3f646516945fcdb636e3a30a8b5a93 = L.AwesomeMarkers.icon(\n                {&quot;extraClasses&quot;: &quot;fa-rotate-0&quot;, &quot;icon&quot;: &quot;info-sign&quot;, &quot;iconColor&quot;: &quot;green&quot;, &quot;markerColor&quot;: &quot;white&quot;, &quot;prefix&quot;: &quot;glyphicon&quot;}\n            );\n            marker_1c27d31f7e6ad563854deba280c80078.setIcon(icon_bf3f646516945fcdb636e3a30a8b5a93);\n        \n    \n            var marker_3c08be2cf6d6eacb878cb61d5a067e8a = L.marker(\n                [28.57325457, -80.64689529],\n                {}\n            ).addTo(marker_cluster_734f8bfbab65a4fb0bf56d9c6e8f4c65);\n        \n    \n            var icon_5f095c969656aebf4d49db54beb2dba7 = L.AwesomeMarkers.icon(\n                {&quot;extraClasses&quot;: &quot;fa-rotate-0&quot;, &quot;icon&quot;: &quot;info-sign&quot;, &quot;iconColor&quot;: &quot;green&quot;, &quot;markerColor&quot;: &quot;white&quot;, &quot;prefix&quot;: &quot;glyphicon&quot;}\n            );\n            marker_3c08be2cf6d6eacb878cb61d5a067e8a.setIcon(icon_5f095c969656aebf4d49db54beb2dba7);\n        \n    \n            var marker_33cda670c090f9f7b05e6ec81f330041 = L.marker(\n                [28.57325457, -80.64689529],\n                {}\n            ).addTo(marker_cluster_734f8bfbab65a4fb0bf56d9c6e8f4c65);\n        \n    \n            var icon_5bc1977dd056265e73cfe8b7746a94e4 = L.AwesomeMarkers.icon(\n                {&quot;extraClasses&quot;: &quot;fa-rotate-0&quot;, &quot;icon&quot;: &quot;info-sign&quot;, &quot;iconColor&quot;: &quot;green&quot;, &quot;markerColor&quot;: &quot;white&quot;, &quot;prefix&quot;: &quot;glyphicon&quot;}\n            );\n            marker_33cda670c090f9f7b05e6ec81f330041.setIcon(icon_5bc1977dd056265e73cfe8b7746a94e4);\n        \n    \n            var marker_ed53353579953cbc112b9704e9007eb8 = L.marker(\n                [28.57325457, -80.64689529],\n                {}\n            ).addTo(marker_cluster_734f8bfbab65a4fb0bf56d9c6e8f4c65);\n        \n    \n            var icon_f4d0961ddb836c8582b8f2a6fea82b01 = L.AwesomeMarkers.icon(\n                {&quot;extraClasses&quot;: &quot;fa-rotate-0&quot;, &quot;icon&quot;: &quot;info-sign&quot;, &quot;iconColor&quot;: &quot;green&quot;, &quot;markerColor&quot;: &quot;white&quot;, &quot;prefix&quot;: &quot;glyphicon&quot;}\n            );\n            marker_ed53353579953cbc112b9704e9007eb8.setIcon(icon_f4d0961ddb836c8582b8f2a6fea82b01);\n        \n    \n            var marker_5d886b9fe09e66324f6b125142342073 = L.marker(\n                [28.56319718, -80.57682003],\n                {}\n            ).addTo(marker_cluster_734f8bfbab65a4fb0bf56d9c6e8f4c65);\n        \n    \n            var icon_b06eda4d0453276ceb2c16b09d1b1e2a = L.AwesomeMarkers.icon(\n                {&quot;extraClasses&quot;: &quot;fa-rotate-0&quot;, &quot;icon&quot;: &quot;info-sign&quot;, &quot;iconColor&quot;: &quot;green&quot;, &quot;markerColor&quot;: &quot;white&quot;, &quot;prefix&quot;: &quot;glyphicon&quot;}\n            );\n            marker_5d886b9fe09e66324f6b125142342073.setIcon(icon_b06eda4d0453276ceb2c16b09d1b1e2a);\n        \n    \n            var marker_37570ed13ad1a59de6bf50bd962bd5d8 = L.marker(\n                [28.56319718, -80.57682003],\n                {}\n            ).addTo(marker_cluster_734f8bfbab65a4fb0bf56d9c6e8f4c65);\n        \n    \n            var icon_ca5e36931aef690e60d3b2599e14acb8 = L.AwesomeMarkers.icon(\n                {&quot;extraClasses&quot;: &quot;fa-rotate-0&quot;, &quot;icon&quot;: &quot;info-sign&quot;, &quot;iconColor&quot;: &quot;green&quot;, &quot;markerColor&quot;: &quot;white&quot;, &quot;prefix&quot;: &quot;glyphicon&quot;}\n            );\n            marker_37570ed13ad1a59de6bf50bd962bd5d8.setIcon(icon_ca5e36931aef690e60d3b2599e14acb8);\n        \n    \n            var marker_cf7a8c2e5c776a80f6b5d5577384e0b2 = L.marker(\n                [28.56319718, -80.57682003],\n                {}\n            ).addTo(marker_cluster_734f8bfbab65a4fb0bf56d9c6e8f4c65);\n        \n    \n            var icon_fcae0f0fc76f8d68347ca12ba694a588 = L.AwesomeMarkers.icon(\n                {&quot;extraClasses&quot;: &quot;fa-rotate-0&quot;, &quot;icon&quot;: &quot;info-sign&quot;, &quot;iconColor&quot;: &quot;red&quot;, &quot;markerColor&quot;: &quot;white&quot;, &quot;prefix&quot;: &quot;glyphicon&quot;}\n            );\n            marker_cf7a8c2e5c776a80f6b5d5577384e0b2.setIcon(icon_fcae0f0fc76f8d68347ca12ba694a588);\n        \n    \n            var marker_2dd2e3633c41105bdbc640f1d8f7b8e9 = L.marker(\n                [28.56319718, -80.57682003],\n                {}\n            ).addTo(marker_cluster_734f8bfbab65a4fb0bf56d9c6e8f4c65);\n        \n    \n            var icon_5d2e7c4d9e7ad6b26da5118cade02ba3 = L.AwesomeMarkers.icon(\n                {&quot;extraClasses&quot;: &quot;fa-rotate-0&quot;, &quot;icon&quot;: &quot;info-sign&quot;, &quot;iconColor&quot;: &quot;red&quot;, &quot;markerColor&quot;: &quot;white&quot;, &quot;prefix&quot;: &quot;glyphicon&quot;}\n            );\n            marker_2dd2e3633c41105bdbc640f1d8f7b8e9.setIcon(icon_5d2e7c4d9e7ad6b26da5118cade02ba3);\n        \n    \n            var marker_15e823a45d9c6ad639d30949e3ffe750 = L.marker(\n                [28.56319718, -80.57682003],\n                {}\n            ).addTo(marker_cluster_734f8bfbab65a4fb0bf56d9c6e8f4c65);\n        \n    \n            var icon_09691dbd5178fc28d1af19e07ad86139 = L.AwesomeMarkers.icon(\n                {&quot;extraClasses&quot;: &quot;fa-rotate-0&quot;, &quot;icon&quot;: &quot;info-sign&quot;, &quot;iconColor&quot;: &quot;red&quot;, &quot;markerColor&quot;: &quot;white&quot;, &quot;prefix&quot;: &quot;glyphicon&quot;}\n            );\n            marker_15e823a45d9c6ad639d30949e3ffe750.setIcon(icon_09691dbd5178fc28d1af19e07ad86139);\n        \n    \n            var marker_b4eada0ecce00fb9b5ef6372ae8fe04d = L.marker(\n                [28.56319718, -80.57682003],\n                {}\n            ).addTo(marker_cluster_734f8bfbab65a4fb0bf56d9c6e8f4c65);\n        \n    \n            var icon_e94442c64f716f8b55911b7825376f25 = L.AwesomeMarkers.icon(\n                {&quot;extraClasses&quot;: &quot;fa-rotate-0&quot;, &quot;icon&quot;: &quot;info-sign&quot;, &quot;iconColor&quot;: &quot;green&quot;, &quot;markerColor&quot;: &quot;white&quot;, &quot;prefix&quot;: &quot;glyphicon&quot;}\n            );\n            marker_b4eada0ecce00fb9b5ef6372ae8fe04d.setIcon(icon_e94442c64f716f8b55911b7825376f25);\n        \n    \n            var marker_daaabadadbf1a4d3bc816b9bd6f432c6 = L.marker(\n                [28.56319718, -80.57682003],\n                {}\n            ).addTo(marker_cluster_734f8bfbab65a4fb0bf56d9c6e8f4c65);\n        \n    \n            var icon_b09f233c92cda0f7572431a4baacbe32 = L.AwesomeMarkers.icon(\n                {&quot;extraClasses&quot;: &quot;fa-rotate-0&quot;, &quot;icon&quot;: &quot;info-sign&quot;, &quot;iconColor&quot;: &quot;red&quot;, &quot;markerColor&quot;: &quot;white&quot;, &quot;prefix&quot;: &quot;glyphicon&quot;}\n            );\n            marker_daaabadadbf1a4d3bc816b9bd6f432c6.setIcon(icon_b09f233c92cda0f7572431a4baacbe32);\n        \n&lt;/script&gt;\n&lt;/html&gt;\" style=\"position:absolute;width:100%;height:100%;left:0;top:0;border:none !important;\" allowfullscreen webkitallowfullscreen mozallowfullscreen></iframe></div></div>"
     },
     "metadata": {}
    }
   ]
  },
  {
   "metadata": {},
   "cell_type": "markdown",
   "source": [
    "Your updated map may look like the following screenshots:\n"
   ]
  },
  {
   "metadata": {},
   "cell_type": "markdown",
   "source": [
    "<center>\n",
    "    <img src=\"https://cf-courses-data.s3.us.cloud-object-storage.appdomain.cloud/IBM-DS0321EN-SkillsNetwork/labs/module_3/images/launch_site_marker_cluster.png\">\n",
    "</center>\n"
   ]
  },
  {
   "metadata": {},
   "cell_type": "markdown",
   "source": [
    "<center>\n",
    "    <img src=\"https://cf-courses-data.s3.us.cloud-object-storage.appdomain.cloud/IBM-DS0321EN-SkillsNetwork/labs/module_3/images/launch_site_marker_cluster_zoomed.png\">\n",
    "</center>\n"
   ]
  },
  {
   "metadata": {},
   "cell_type": "markdown",
   "source": [
    "From the color-labeled markers in marker clusters, you should be able to easily identify which launch sites have relatively high success rates.\n"
   ]
  },
  {
   "metadata": {},
   "cell_type": "markdown",
   "source": [
    "# TASK 3: Calculate the distances between a launch site to its proximities\n"
   ]
  },
  {
   "metadata": {},
   "cell_type": "markdown",
   "source": [
    "Next, we need to explore and analyze the proximities of launch sites.\n"
   ]
  },
  {
   "metadata": {},
   "cell_type": "markdown",
   "source": [
    "Let's first add a `MousePosition` on the map to get coordinate for a mouse over a point on the map. As such, while you are exploring the map, you can easily find the coordinates of any points of interests (such as railway)\n"
   ]
  },
  {
   "metadata": {},
   "cell_type": "code",
   "source": [
    "# Add Mouse Position to get the coordinate (Lat, Long) for a mouse over on the map\n",
    "formatter = \"function(num) {return L.Util.formatNum(num, 5);};\"\n",
    "mouse_position = MousePosition(\n",
    "    position='topright',\n",
    "    separator=' Long: ',\n",
    "    empty_string='NaN',\n",
    "    lng_first=False,\n",
    "    num_digits=20,\n",
    "    prefix='Lat:',\n",
    "    lat_formatter=formatter,\n",
    "    lng_formatter=formatter,\n",
    ")\n",
    "\n",
    "site_map.add_child(mouse_position)\n",
    "site_map"
   ],
   "execution_count": 15,
   "outputs": [
    {
     "output_type": "execute_result",
     "execution_count": 15,
     "data": {
      "text/plain": "<folium.folium.Map at 0x7f7a8d2655d0>",
      "text/html": "<div style=\"width:100%;\"><div style=\"position:relative;width:100%;height:0;padding-bottom:60%;\"><span style=\"color:#565656\">Make this Notebook Trusted to load map: File -> Trust Notebook</span><iframe srcdoc=\"&lt;!DOCTYPE html&gt;\n&lt;html&gt;\n&lt;head&gt;\n    \n    &lt;meta http-equiv=&quot;content-type&quot; content=&quot;text/html; charset=UTF-8&quot; /&gt;\n    \n        &lt;script&gt;\n            L_NO_TOUCH = false;\n            L_DISABLE_3D = false;\n        &lt;/script&gt;\n    \n    &lt;style&gt;html, body {width: 100%;height: 100%;margin: 0;padding: 0;}&lt;/style&gt;\n    &lt;style&gt;#map {position:absolute;top:0;bottom:0;right:0;left:0;}&lt;/style&gt;\n    &lt;script src=&quot;https://cdn.jsdelivr.net/npm/leaflet@1.9.3/dist/leaflet.js&quot;&gt;&lt;/script&gt;\n    &lt;script src=&quot;https://code.jquery.com/jquery-1.12.4.min.js&quot;&gt;&lt;/script&gt;\n    &lt;script src=&quot;https://cdn.jsdelivr.net/npm/bootstrap@5.2.2/dist/js/bootstrap.bundle.min.js&quot;&gt;&lt;/script&gt;\n    &lt;script src=&quot;https://cdnjs.cloudflare.com/ajax/libs/Leaflet.awesome-markers/2.0.2/leaflet.awesome-markers.js&quot;&gt;&lt;/script&gt;\n    &lt;link rel=&quot;stylesheet&quot; href=&quot;https://cdn.jsdelivr.net/npm/leaflet@1.9.3/dist/leaflet.css&quot;/&gt;\n    &lt;link rel=&quot;stylesheet&quot; href=&quot;https://cdn.jsdelivr.net/npm/bootstrap@5.2.2/dist/css/bootstrap.min.css&quot;/&gt;\n    &lt;link rel=&quot;stylesheet&quot; href=&quot;https://netdna.bootstrapcdn.com/bootstrap/3.0.0/css/bootstrap.min.css&quot;/&gt;\n    &lt;link rel=&quot;stylesheet&quot; href=&quot;https://cdn.jsdelivr.net/npm/@fortawesome/fontawesome-free@6.2.0/css/all.min.css&quot;/&gt;\n    &lt;link rel=&quot;stylesheet&quot; href=&quot;https://cdnjs.cloudflare.com/ajax/libs/Leaflet.awesome-markers/2.0.2/leaflet.awesome-markers.css&quot;/&gt;\n    &lt;link rel=&quot;stylesheet&quot; href=&quot;https://cdn.jsdelivr.net/gh/python-visualization/folium/folium/templates/leaflet.awesome.rotate.min.css&quot;/&gt;\n    \n            &lt;meta name=&quot;viewport&quot; content=&quot;width=device-width,\n                initial-scale=1.0, maximum-scale=1.0, user-scalable=no&quot; /&gt;\n            &lt;style&gt;\n                #map_4e9d3ad71e1a31c6bdeecbf9c9881401 {\n                    position: relative;\n                    width: 100.0%;\n                    height: 100.0%;\n                    left: 0.0%;\n                    top: 0.0%;\n                }\n                .leaflet-container { font-size: 1rem; }\n            &lt;/style&gt;\n        \n    &lt;script src=&quot;https://cdnjs.cloudflare.com/ajax/libs/leaflet.markercluster/1.1.0/leaflet.markercluster.js&quot;&gt;&lt;/script&gt;\n    &lt;link rel=&quot;stylesheet&quot; href=&quot;https://cdnjs.cloudflare.com/ajax/libs/leaflet.markercluster/1.1.0/MarkerCluster.css&quot;/&gt;\n    &lt;link rel=&quot;stylesheet&quot; href=&quot;https://cdnjs.cloudflare.com/ajax/libs/leaflet.markercluster/1.1.0/MarkerCluster.Default.css&quot;/&gt;\n    &lt;script src=&quot;https://cdn.jsdelivr.net/gh/ardhi/Leaflet.MousePosition/src/L.Control.MousePosition.min.js&quot;&gt;&lt;/script&gt;\n    &lt;link rel=&quot;stylesheet&quot; href=&quot;https://cdn.jsdelivr.net/gh/ardhi/Leaflet.MousePosition/src/L.Control.MousePosition.min.css&quot;/&gt;\n&lt;/head&gt;\n&lt;body&gt;\n    \n    \n            &lt;div class=&quot;folium-map&quot; id=&quot;map_4e9d3ad71e1a31c6bdeecbf9c9881401&quot; &gt;&lt;/div&gt;\n        \n&lt;/body&gt;\n&lt;script&gt;\n    \n    \n            var map_4e9d3ad71e1a31c6bdeecbf9c9881401 = L.map(\n                &quot;map_4e9d3ad71e1a31c6bdeecbf9c9881401&quot;,\n                {\n                    center: [29.559684888503615, -95.0830971930759],\n                    crs: L.CRS.EPSG3857,\n                    zoom: 5,\n                    zoomControl: true,\n                    preferCanvas: false,\n                }\n            );\n\n            \n\n        \n    \n            var tile_layer_888ec1430201e194358f10e3b4fab89e = L.tileLayer(\n                &quot;https://{s}.tile.openstreetmap.org/{z}/{x}/{y}.png&quot;,\n                {&quot;attribution&quot;: &quot;Data by \\u0026copy; \\u003ca target=\\&quot;_blank\\&quot; href=\\&quot;http://openstreetmap.org\\&quot;\\u003eOpenStreetMap\\u003c/a\\u003e, under \\u003ca target=\\&quot;_blank\\&quot; href=\\&quot;http://www.openstreetmap.org/copyright\\&quot;\\u003eODbL\\u003c/a\\u003e.&quot;, &quot;detectRetina&quot;: false, &quot;maxNativeZoom&quot;: 18, &quot;maxZoom&quot;: 18, &quot;minZoom&quot;: 0, &quot;noWrap&quot;: false, &quot;opacity&quot;: 1, &quot;subdomains&quot;: &quot;abc&quot;, &quot;tms&quot;: false}\n            ).addTo(map_4e9d3ad71e1a31c6bdeecbf9c9881401);\n        \n    \n            var circle_3d19f5470a03ee828c89583093df23fc = L.circle(\n                [28.56230197, -80.57735648],\n                {&quot;bubblingMouseEvents&quot;: true, &quot;color&quot;: &quot;#d35400&quot;, &quot;dashArray&quot;: null, &quot;dashOffset&quot;: null, &quot;fill&quot;: true, &quot;fillColor&quot;: &quot;#d35400&quot;, &quot;fillOpacity&quot;: 0.2, &quot;fillRule&quot;: &quot;evenodd&quot;, &quot;lineCap&quot;: &quot;round&quot;, &quot;lineJoin&quot;: &quot;round&quot;, &quot;opacity&quot;: 1.0, &quot;radius&quot;: 1000, &quot;stroke&quot;: true, &quot;weight&quot;: 3}\n            ).addTo(map_4e9d3ad71e1a31c6bdeecbf9c9881401);\n        \n    \n        var popup_0e0f89ee803ae33c1cb5a241fc2a6ff8 = L.popup({&quot;maxWidth&quot;: &quot;100%&quot;});\n\n        \n            \n                var html_a87758c1d6968efdeb6f6634cd713479 = $(`&lt;div id=&quot;html_a87758c1d6968efdeb6f6634cd713479&quot; style=&quot;width: 100.0%; height: 100.0%;&quot;&gt;CCAFS LC-40&lt;/div&gt;`)[0];\n                popup_0e0f89ee803ae33c1cb5a241fc2a6ff8.setContent(html_a87758c1d6968efdeb6f6634cd713479);\n            \n        \n\n        circle_3d19f5470a03ee828c89583093df23fc.bindPopup(popup_0e0f89ee803ae33c1cb5a241fc2a6ff8)\n        ;\n\n        \n    \n    \n            var marker_a7b69c242ac314b3da78583280076a67 = L.marker(\n                [28.56230197, -80.57735648],\n                {}\n            ).addTo(map_4e9d3ad71e1a31c6bdeecbf9c9881401);\n        \n    \n            var div_icon_993d7cac1db6c5145b5c10feac1f61d4 = L.divIcon({&quot;className&quot;: &quot;empty&quot;, &quot;html&quot;: &quot;\\u003cdiv style=\\&quot;font-size: 12; color:#d35400;\\&quot;\\u003e\\u003cb\\u003eCCAFS LC-40\\u003c/b\\u003e\\u003c/div\\u003e&quot;, &quot;iconAnchor&quot;: [0, 0], &quot;iconSize&quot;: [20, 20]});\n            marker_a7b69c242ac314b3da78583280076a67.setIcon(div_icon_993d7cac1db6c5145b5c10feac1f61d4);\n        \n    \n            var circle_c148ab80b6c97f33fe6bd673117bb785 = L.circle(\n                [28.56319718, -80.57682003],\n                {&quot;bubblingMouseEvents&quot;: true, &quot;color&quot;: &quot;#d35400&quot;, &quot;dashArray&quot;: null, &quot;dashOffset&quot;: null, &quot;fill&quot;: true, &quot;fillColor&quot;: &quot;#d35400&quot;, &quot;fillOpacity&quot;: 0.2, &quot;fillRule&quot;: &quot;evenodd&quot;, &quot;lineCap&quot;: &quot;round&quot;, &quot;lineJoin&quot;: &quot;round&quot;, &quot;opacity&quot;: 1.0, &quot;radius&quot;: 1000, &quot;stroke&quot;: true, &quot;weight&quot;: 3}\n            ).addTo(map_4e9d3ad71e1a31c6bdeecbf9c9881401);\n        \n    \n        var popup_e92dfa2511c1cfad18d1bb3862d86f32 = L.popup({&quot;maxWidth&quot;: &quot;100%&quot;});\n\n        \n            \n                var html_08bb8719f103718f9964a6deb0920219 = $(`&lt;div id=&quot;html_08bb8719f103718f9964a6deb0920219&quot; style=&quot;width: 100.0%; height: 100.0%;&quot;&gt;CCAFS SLC-40&lt;/div&gt;`)[0];\n                popup_e92dfa2511c1cfad18d1bb3862d86f32.setContent(html_08bb8719f103718f9964a6deb0920219);\n            \n        \n\n        circle_c148ab80b6c97f33fe6bd673117bb785.bindPopup(popup_e92dfa2511c1cfad18d1bb3862d86f32)\n        ;\n\n        \n    \n    \n            var marker_b3c2d8afe2836324e1c5382bbbd6bbbf = L.marker(\n                [28.56319718, -80.57682003],\n                {}\n            ).addTo(map_4e9d3ad71e1a31c6bdeecbf9c9881401);\n        \n    \n            var div_icon_10eda96ffcbcee0dedf8da372a354a3f = L.divIcon({&quot;className&quot;: &quot;empty&quot;, &quot;html&quot;: &quot;\\u003cdiv style=\\&quot;font-size: 12; color:#d35400;\\&quot;\\u003e\\u003cb\\u003eCCAFS SLC-40\\u003c/b\\u003e\\u003c/div\\u003e&quot;, &quot;iconAnchor&quot;: [0, 0], &quot;iconSize&quot;: [20, 20]});\n            marker_b3c2d8afe2836324e1c5382bbbd6bbbf.setIcon(div_icon_10eda96ffcbcee0dedf8da372a354a3f);\n        \n    \n            var circle_46e70c7c38bb00263b0bd9362a81b204 = L.circle(\n                [28.57325457, -80.64689529],\n                {&quot;bubblingMouseEvents&quot;: true, &quot;color&quot;: &quot;#d35400&quot;, &quot;dashArray&quot;: null, &quot;dashOffset&quot;: null, &quot;fill&quot;: true, &quot;fillColor&quot;: &quot;#d35400&quot;, &quot;fillOpacity&quot;: 0.2, &quot;fillRule&quot;: &quot;evenodd&quot;, &quot;lineCap&quot;: &quot;round&quot;, &quot;lineJoin&quot;: &quot;round&quot;, &quot;opacity&quot;: 1.0, &quot;radius&quot;: 1000, &quot;stroke&quot;: true, &quot;weight&quot;: 3}\n            ).addTo(map_4e9d3ad71e1a31c6bdeecbf9c9881401);\n        \n    \n        var popup_d58e3fdcae169f2f520d1694eb23bc1a = L.popup({&quot;maxWidth&quot;: &quot;100%&quot;});\n\n        \n            \n                var html_0e39390191758918ca40058a00272fb4 = $(`&lt;div id=&quot;html_0e39390191758918ca40058a00272fb4&quot; style=&quot;width: 100.0%; height: 100.0%;&quot;&gt;KSC LC-39A&lt;/div&gt;`)[0];\n                popup_d58e3fdcae169f2f520d1694eb23bc1a.setContent(html_0e39390191758918ca40058a00272fb4);\n            \n        \n\n        circle_46e70c7c38bb00263b0bd9362a81b204.bindPopup(popup_d58e3fdcae169f2f520d1694eb23bc1a)\n        ;\n\n        \n    \n    \n            var marker_c0c25c8b0938d6a4ab46b636311e2a9b = L.marker(\n                [28.57325457, -80.64689529],\n                {}\n            ).addTo(map_4e9d3ad71e1a31c6bdeecbf9c9881401);\n        \n    \n            var div_icon_ba463fd4a5d3c04520075efe1947739a = L.divIcon({&quot;className&quot;: &quot;empty&quot;, &quot;html&quot;: &quot;\\u003cdiv style=\\&quot;font-size: 12; color:#d35400;\\&quot;\\u003e\\u003cb\\u003eKSC LC-39A\\u003c/b\\u003e\\u003c/div\\u003e&quot;, &quot;iconAnchor&quot;: [0, 0], &quot;iconSize&quot;: [20, 20]});\n            marker_c0c25c8b0938d6a4ab46b636311e2a9b.setIcon(div_icon_ba463fd4a5d3c04520075efe1947739a);\n        \n    \n            var circle_b9dd26dd0266e3be34df37a0e76cb09e = L.circle(\n                [34.63283416, -120.6107455],\n                {&quot;bubblingMouseEvents&quot;: true, &quot;color&quot;: &quot;#d35400&quot;, &quot;dashArray&quot;: null, &quot;dashOffset&quot;: null, &quot;fill&quot;: true, &quot;fillColor&quot;: &quot;#d35400&quot;, &quot;fillOpacity&quot;: 0.2, &quot;fillRule&quot;: &quot;evenodd&quot;, &quot;lineCap&quot;: &quot;round&quot;, &quot;lineJoin&quot;: &quot;round&quot;, &quot;opacity&quot;: 1.0, &quot;radius&quot;: 1000, &quot;stroke&quot;: true, &quot;weight&quot;: 3}\n            ).addTo(map_4e9d3ad71e1a31c6bdeecbf9c9881401);\n        \n    \n        var popup_ac23d722aabccc2e8be4cd140205814c = L.popup({&quot;maxWidth&quot;: &quot;100%&quot;});\n\n        \n            \n                var html_19042de900c3ccd782da0f1aab9c59ef = $(`&lt;div id=&quot;html_19042de900c3ccd782da0f1aab9c59ef&quot; style=&quot;width: 100.0%; height: 100.0%;&quot;&gt;VAFB SLC-4E&lt;/div&gt;`)[0];\n                popup_ac23d722aabccc2e8be4cd140205814c.setContent(html_19042de900c3ccd782da0f1aab9c59ef);\n            \n        \n\n        circle_b9dd26dd0266e3be34df37a0e76cb09e.bindPopup(popup_ac23d722aabccc2e8be4cd140205814c)\n        ;\n\n        \n    \n    \n            var marker_598832812db8039db1431aa5c820c6b8 = L.marker(\n                [34.63283416, -120.6107455],\n                {}\n            ).addTo(map_4e9d3ad71e1a31c6bdeecbf9c9881401);\n        \n    \n            var div_icon_ffb0948e2daf2a67531a24cdd28d8bdf = L.divIcon({&quot;className&quot;: &quot;empty&quot;, &quot;html&quot;: &quot;\\u003cdiv style=\\&quot;font-size: 12; color:#d35400;\\&quot;\\u003e\\u003cb\\u003eVAFB SLC-4E\\u003c/b\\u003e\\u003c/div\\u003e&quot;, &quot;iconAnchor&quot;: [0, 0], &quot;iconSize&quot;: [20, 20]});\n            marker_598832812db8039db1431aa5c820c6b8.setIcon(div_icon_ffb0948e2daf2a67531a24cdd28d8bdf);\n        \n    \n            var marker_cluster_734f8bfbab65a4fb0bf56d9c6e8f4c65 = L.markerClusterGroup(\n                {}\n            );\n            map_4e9d3ad71e1a31c6bdeecbf9c9881401.addLayer(marker_cluster_734f8bfbab65a4fb0bf56d9c6e8f4c65);\n        \n    \n            var marker_c3c8d08cdb6bfc20d9071e0d2cbca8a3 = L.marker(\n                [28.56230197, -80.57735648],\n                {}\n            ).addTo(marker_cluster_734f8bfbab65a4fb0bf56d9c6e8f4c65);\n        \n    \n            var icon_66636e7ea163d58300235577623668db = L.AwesomeMarkers.icon(\n                {&quot;extraClasses&quot;: &quot;fa-rotate-0&quot;, &quot;icon&quot;: &quot;info-sign&quot;, &quot;iconColor&quot;: &quot;red&quot;, &quot;markerColor&quot;: &quot;white&quot;, &quot;prefix&quot;: &quot;glyphicon&quot;}\n            );\n            marker_c3c8d08cdb6bfc20d9071e0d2cbca8a3.setIcon(icon_66636e7ea163d58300235577623668db);\n        \n    \n            var marker_a32a6417063eaeb45470717d38e8fa57 = L.marker(\n                [28.56230197, -80.57735648],\n                {}\n            ).addTo(marker_cluster_734f8bfbab65a4fb0bf56d9c6e8f4c65);\n        \n    \n            var icon_21fa936d957ce3f78f45539df28ef69b = L.AwesomeMarkers.icon(\n                {&quot;extraClasses&quot;: &quot;fa-rotate-0&quot;, &quot;icon&quot;: &quot;info-sign&quot;, &quot;iconColor&quot;: &quot;red&quot;, &quot;markerColor&quot;: &quot;white&quot;, &quot;prefix&quot;: &quot;glyphicon&quot;}\n            );\n            marker_a32a6417063eaeb45470717d38e8fa57.setIcon(icon_21fa936d957ce3f78f45539df28ef69b);\n        \n    \n            var marker_f6ff16a109914e996ae841cb2b73efb4 = L.marker(\n                [28.56230197, -80.57735648],\n                {}\n            ).addTo(marker_cluster_734f8bfbab65a4fb0bf56d9c6e8f4c65);\n        \n    \n            var icon_5428065cef03c3c6b6b22990ae414e05 = L.AwesomeMarkers.icon(\n                {&quot;extraClasses&quot;: &quot;fa-rotate-0&quot;, &quot;icon&quot;: &quot;info-sign&quot;, &quot;iconColor&quot;: &quot;red&quot;, &quot;markerColor&quot;: &quot;white&quot;, &quot;prefix&quot;: &quot;glyphicon&quot;}\n            );\n            marker_f6ff16a109914e996ae841cb2b73efb4.setIcon(icon_5428065cef03c3c6b6b22990ae414e05);\n        \n    \n            var marker_56d238aba4f71879551772b3cb7d1f9f = L.marker(\n                [28.56230197, -80.57735648],\n                {}\n            ).addTo(marker_cluster_734f8bfbab65a4fb0bf56d9c6e8f4c65);\n        \n    \n            var icon_f107737c71b524eb6401bc12e3769c22 = L.AwesomeMarkers.icon(\n                {&quot;extraClasses&quot;: &quot;fa-rotate-0&quot;, &quot;icon&quot;: &quot;info-sign&quot;, &quot;iconColor&quot;: &quot;red&quot;, &quot;markerColor&quot;: &quot;white&quot;, &quot;prefix&quot;: &quot;glyphicon&quot;}\n            );\n            marker_56d238aba4f71879551772b3cb7d1f9f.setIcon(icon_f107737c71b524eb6401bc12e3769c22);\n        \n    \n            var marker_dc1b565f5eaa85c4222ddf7f6c1335d9 = L.marker(\n                [28.56230197, -80.57735648],\n                {}\n            ).addTo(marker_cluster_734f8bfbab65a4fb0bf56d9c6e8f4c65);\n        \n    \n            var icon_a7524736bf522894aae528f68a884bc4 = L.AwesomeMarkers.icon(\n                {&quot;extraClasses&quot;: &quot;fa-rotate-0&quot;, &quot;icon&quot;: &quot;info-sign&quot;, &quot;iconColor&quot;: &quot;red&quot;, &quot;markerColor&quot;: &quot;white&quot;, &quot;prefix&quot;: &quot;glyphicon&quot;}\n            );\n            marker_dc1b565f5eaa85c4222ddf7f6c1335d9.setIcon(icon_a7524736bf522894aae528f68a884bc4);\n        \n    \n            var marker_70731052e111207f16b4803196c53fe1 = L.marker(\n                [28.56230197, -80.57735648],\n                {}\n            ).addTo(marker_cluster_734f8bfbab65a4fb0bf56d9c6e8f4c65);\n        \n    \n            var icon_023c19ad98dea89f67b2077cb55980bf = L.AwesomeMarkers.icon(\n                {&quot;extraClasses&quot;: &quot;fa-rotate-0&quot;, &quot;icon&quot;: &quot;info-sign&quot;, &quot;iconColor&quot;: &quot;red&quot;, &quot;markerColor&quot;: &quot;white&quot;, &quot;prefix&quot;: &quot;glyphicon&quot;}\n            );\n            marker_70731052e111207f16b4803196c53fe1.setIcon(icon_023c19ad98dea89f67b2077cb55980bf);\n        \n    \n            var marker_f8cfadf9500b99806bd0c72bd3aab876 = L.marker(\n                [28.56230197, -80.57735648],\n                {}\n            ).addTo(marker_cluster_734f8bfbab65a4fb0bf56d9c6e8f4c65);\n        \n    \n            var icon_29fdc5412dac341fd4181afafa405420 = L.AwesomeMarkers.icon(\n                {&quot;extraClasses&quot;: &quot;fa-rotate-0&quot;, &quot;icon&quot;: &quot;info-sign&quot;, &quot;iconColor&quot;: &quot;red&quot;, &quot;markerColor&quot;: &quot;white&quot;, &quot;prefix&quot;: &quot;glyphicon&quot;}\n            );\n            marker_f8cfadf9500b99806bd0c72bd3aab876.setIcon(icon_29fdc5412dac341fd4181afafa405420);\n        \n    \n            var marker_7a9870d03faf6c53d1620f3d72e33796 = L.marker(\n                [28.56230197, -80.57735648],\n                {}\n            ).addTo(marker_cluster_734f8bfbab65a4fb0bf56d9c6e8f4c65);\n        \n    \n            var icon_1a71b04201d3fd0d521f492fb75ea2c9 = L.AwesomeMarkers.icon(\n                {&quot;extraClasses&quot;: &quot;fa-rotate-0&quot;, &quot;icon&quot;: &quot;info-sign&quot;, &quot;iconColor&quot;: &quot;red&quot;, &quot;markerColor&quot;: &quot;white&quot;, &quot;prefix&quot;: &quot;glyphicon&quot;}\n            );\n            marker_7a9870d03faf6c53d1620f3d72e33796.setIcon(icon_1a71b04201d3fd0d521f492fb75ea2c9);\n        \n    \n            var marker_1e21353895386ea5a2736fd7fb063f9d = L.marker(\n                [28.56230197, -80.57735648],\n                {}\n            ).addTo(marker_cluster_734f8bfbab65a4fb0bf56d9c6e8f4c65);\n        \n    \n            var icon_fd56b71997ac03acc22e05a839e8821d = L.AwesomeMarkers.icon(\n                {&quot;extraClasses&quot;: &quot;fa-rotate-0&quot;, &quot;icon&quot;: &quot;info-sign&quot;, &quot;iconColor&quot;: &quot;red&quot;, &quot;markerColor&quot;: &quot;white&quot;, &quot;prefix&quot;: &quot;glyphicon&quot;}\n            );\n            marker_1e21353895386ea5a2736fd7fb063f9d.setIcon(icon_fd56b71997ac03acc22e05a839e8821d);\n        \n    \n            var marker_b633525950d9c04e4ea9fa95edd98cf0 = L.marker(\n                [28.56230197, -80.57735648],\n                {}\n            ).addTo(marker_cluster_734f8bfbab65a4fb0bf56d9c6e8f4c65);\n        \n    \n            var icon_27133ac317db96a6073f4a69fffb7a38 = L.AwesomeMarkers.icon(\n                {&quot;extraClasses&quot;: &quot;fa-rotate-0&quot;, &quot;icon&quot;: &quot;info-sign&quot;, &quot;iconColor&quot;: &quot;red&quot;, &quot;markerColor&quot;: &quot;white&quot;, &quot;prefix&quot;: &quot;glyphicon&quot;}\n            );\n            marker_b633525950d9c04e4ea9fa95edd98cf0.setIcon(icon_27133ac317db96a6073f4a69fffb7a38);\n        \n    \n            var marker_1b04ead78f82acc82b6fa1f242e9292c = L.marker(\n                [28.56230197, -80.57735648],\n                {}\n            ).addTo(marker_cluster_734f8bfbab65a4fb0bf56d9c6e8f4c65);\n        \n    \n            var icon_d122a66681b91776165931999031f421 = L.AwesomeMarkers.icon(\n                {&quot;extraClasses&quot;: &quot;fa-rotate-0&quot;, &quot;icon&quot;: &quot;info-sign&quot;, &quot;iconColor&quot;: &quot;red&quot;, &quot;markerColor&quot;: &quot;white&quot;, &quot;prefix&quot;: &quot;glyphicon&quot;}\n            );\n            marker_1b04ead78f82acc82b6fa1f242e9292c.setIcon(icon_d122a66681b91776165931999031f421);\n        \n    \n            var marker_96d4b27cdd44437c54f9746527c97015 = L.marker(\n                [28.56230197, -80.57735648],\n                {}\n            ).addTo(marker_cluster_734f8bfbab65a4fb0bf56d9c6e8f4c65);\n        \n    \n            var icon_0aafb4fb2a6a6c7e2b1dca612757eb80 = L.AwesomeMarkers.icon(\n                {&quot;extraClasses&quot;: &quot;fa-rotate-0&quot;, &quot;icon&quot;: &quot;info-sign&quot;, &quot;iconColor&quot;: &quot;red&quot;, &quot;markerColor&quot;: &quot;white&quot;, &quot;prefix&quot;: &quot;glyphicon&quot;}\n            );\n            marker_96d4b27cdd44437c54f9746527c97015.setIcon(icon_0aafb4fb2a6a6c7e2b1dca612757eb80);\n        \n    \n            var marker_613578837e3bf63632a7f6e0dd256f0a = L.marker(\n                [28.56230197, -80.57735648],\n                {}\n            ).addTo(marker_cluster_734f8bfbab65a4fb0bf56d9c6e8f4c65);\n        \n    \n            var icon_bd5e26f829dcbc58585b2ad6d25192b3 = L.AwesomeMarkers.icon(\n                {&quot;extraClasses&quot;: &quot;fa-rotate-0&quot;, &quot;icon&quot;: &quot;info-sign&quot;, &quot;iconColor&quot;: &quot;red&quot;, &quot;markerColor&quot;: &quot;white&quot;, &quot;prefix&quot;: &quot;glyphicon&quot;}\n            );\n            marker_613578837e3bf63632a7f6e0dd256f0a.setIcon(icon_bd5e26f829dcbc58585b2ad6d25192b3);\n        \n    \n            var marker_9613904f9f1daadc54b883a4161a2e97 = L.marker(\n                [28.56230197, -80.57735648],\n                {}\n            ).addTo(marker_cluster_734f8bfbab65a4fb0bf56d9c6e8f4c65);\n        \n    \n            var icon_e34f1a72314afb6368e87cae07b58682 = L.AwesomeMarkers.icon(\n                {&quot;extraClasses&quot;: &quot;fa-rotate-0&quot;, &quot;icon&quot;: &quot;info-sign&quot;, &quot;iconColor&quot;: &quot;red&quot;, &quot;markerColor&quot;: &quot;white&quot;, &quot;prefix&quot;: &quot;glyphicon&quot;}\n            );\n            marker_9613904f9f1daadc54b883a4161a2e97.setIcon(icon_e34f1a72314afb6368e87cae07b58682);\n        \n    \n            var marker_de222afb093628c8053fd16fc000722f = L.marker(\n                [28.56230197, -80.57735648],\n                {}\n            ).addTo(marker_cluster_734f8bfbab65a4fb0bf56d9c6e8f4c65);\n        \n    \n            var icon_8c1aa95b16289d328ecb98ef4339701d = L.AwesomeMarkers.icon(\n                {&quot;extraClasses&quot;: &quot;fa-rotate-0&quot;, &quot;icon&quot;: &quot;info-sign&quot;, &quot;iconColor&quot;: &quot;red&quot;, &quot;markerColor&quot;: &quot;white&quot;, &quot;prefix&quot;: &quot;glyphicon&quot;}\n            );\n            marker_de222afb093628c8053fd16fc000722f.setIcon(icon_8c1aa95b16289d328ecb98ef4339701d);\n        \n    \n            var marker_f865c4b892fa9d940c42dd0339170353 = L.marker(\n                [28.56230197, -80.57735648],\n                {}\n            ).addTo(marker_cluster_734f8bfbab65a4fb0bf56d9c6e8f4c65);\n        \n    \n            var icon_f0e5c0aeef4b990cefb2239baeafd143 = L.AwesomeMarkers.icon(\n                {&quot;extraClasses&quot;: &quot;fa-rotate-0&quot;, &quot;icon&quot;: &quot;info-sign&quot;, &quot;iconColor&quot;: &quot;red&quot;, &quot;markerColor&quot;: &quot;white&quot;, &quot;prefix&quot;: &quot;glyphicon&quot;}\n            );\n            marker_f865c4b892fa9d940c42dd0339170353.setIcon(icon_f0e5c0aeef4b990cefb2239baeafd143);\n        \n    \n            var marker_9f0a095d3cd162fac757dca8dc0564ed = L.marker(\n                [28.56230197, -80.57735648],\n                {}\n            ).addTo(marker_cluster_734f8bfbab65a4fb0bf56d9c6e8f4c65);\n        \n    \n            var icon_df27146a3233632ba9863287cc25059a = L.AwesomeMarkers.icon(\n                {&quot;extraClasses&quot;: &quot;fa-rotate-0&quot;, &quot;icon&quot;: &quot;info-sign&quot;, &quot;iconColor&quot;: &quot;red&quot;, &quot;markerColor&quot;: &quot;white&quot;, &quot;prefix&quot;: &quot;glyphicon&quot;}\n            );\n            marker_9f0a095d3cd162fac757dca8dc0564ed.setIcon(icon_df27146a3233632ba9863287cc25059a);\n        \n    \n            var marker_ce28d47c764c772d300116a74f91191c = L.marker(\n                [28.56230197, -80.57735648],\n                {}\n            ).addTo(marker_cluster_734f8bfbab65a4fb0bf56d9c6e8f4c65);\n        \n    \n            var icon_dfe50f49fedc683f0ea7c969e46372f8 = L.AwesomeMarkers.icon(\n                {&quot;extraClasses&quot;: &quot;fa-rotate-0&quot;, &quot;icon&quot;: &quot;info-sign&quot;, &quot;iconColor&quot;: &quot;green&quot;, &quot;markerColor&quot;: &quot;white&quot;, &quot;prefix&quot;: &quot;glyphicon&quot;}\n            );\n            marker_ce28d47c764c772d300116a74f91191c.setIcon(icon_dfe50f49fedc683f0ea7c969e46372f8);\n        \n    \n            var marker_ff6efb7b0f81818df27d524f36cd5477 = L.marker(\n                [28.56230197, -80.57735648],\n                {}\n            ).addTo(marker_cluster_734f8bfbab65a4fb0bf56d9c6e8f4c65);\n        \n    \n            var icon_65f568afcf5ccd539f6f03ba0377a4bf = L.AwesomeMarkers.icon(\n                {&quot;extraClasses&quot;: &quot;fa-rotate-0&quot;, &quot;icon&quot;: &quot;info-sign&quot;, &quot;iconColor&quot;: &quot;green&quot;, &quot;markerColor&quot;: &quot;white&quot;, &quot;prefix&quot;: &quot;glyphicon&quot;}\n            );\n            marker_ff6efb7b0f81818df27d524f36cd5477.setIcon(icon_65f568afcf5ccd539f6f03ba0377a4bf);\n        \n    \n            var marker_77785c9cf2ae8dd99ffc4a961f83ccd1 = L.marker(\n                [28.56230197, -80.57735648],\n                {}\n            ).addTo(marker_cluster_734f8bfbab65a4fb0bf56d9c6e8f4c65);\n        \n    \n            var icon_82a529cfd574e35d170a2e6d41bcb90f = L.AwesomeMarkers.icon(\n                {&quot;extraClasses&quot;: &quot;fa-rotate-0&quot;, &quot;icon&quot;: &quot;info-sign&quot;, &quot;iconColor&quot;: &quot;red&quot;, &quot;markerColor&quot;: &quot;white&quot;, &quot;prefix&quot;: &quot;glyphicon&quot;}\n            );\n            marker_77785c9cf2ae8dd99ffc4a961f83ccd1.setIcon(icon_82a529cfd574e35d170a2e6d41bcb90f);\n        \n    \n            var marker_1f31e8ff60802b73710b5ed3918d2b13 = L.marker(\n                [28.56230197, -80.57735648],\n                {}\n            ).addTo(marker_cluster_734f8bfbab65a4fb0bf56d9c6e8f4c65);\n        \n    \n            var icon_903d42f566edc9598148638e86c35b6a = L.AwesomeMarkers.icon(\n                {&quot;extraClasses&quot;: &quot;fa-rotate-0&quot;, &quot;icon&quot;: &quot;info-sign&quot;, &quot;iconColor&quot;: &quot;green&quot;, &quot;markerColor&quot;: &quot;white&quot;, &quot;prefix&quot;: &quot;glyphicon&quot;}\n            );\n            marker_1f31e8ff60802b73710b5ed3918d2b13.setIcon(icon_903d42f566edc9598148638e86c35b6a);\n        \n    \n            var marker_af7bc89683ed606532514f64dcb12c79 = L.marker(\n                [28.56230197, -80.57735648],\n                {}\n            ).addTo(marker_cluster_734f8bfbab65a4fb0bf56d9c6e8f4c65);\n        \n    \n            var icon_1bf1c15502990e0d12763d84fa2c9abc = L.AwesomeMarkers.icon(\n                {&quot;extraClasses&quot;: &quot;fa-rotate-0&quot;, &quot;icon&quot;: &quot;info-sign&quot;, &quot;iconColor&quot;: &quot;green&quot;, &quot;markerColor&quot;: &quot;white&quot;, &quot;prefix&quot;: &quot;glyphicon&quot;}\n            );\n            marker_af7bc89683ed606532514f64dcb12c79.setIcon(icon_1bf1c15502990e0d12763d84fa2c9abc);\n        \n    \n            var marker_3d1597bf85579f4f80846a4e03e47968 = L.marker(\n                [28.56230197, -80.57735648],\n                {}\n            ).addTo(marker_cluster_734f8bfbab65a4fb0bf56d9c6e8f4c65);\n        \n    \n            var icon_6f726c77a1f2d709f16637aed2cfa384 = L.AwesomeMarkers.icon(\n                {&quot;extraClasses&quot;: &quot;fa-rotate-0&quot;, &quot;icon&quot;: &quot;info-sign&quot;, &quot;iconColor&quot;: &quot;green&quot;, &quot;markerColor&quot;: &quot;white&quot;, &quot;prefix&quot;: &quot;glyphicon&quot;}\n            );\n            marker_3d1597bf85579f4f80846a4e03e47968.setIcon(icon_6f726c77a1f2d709f16637aed2cfa384);\n        \n    \n            var marker_df85b81f048266485f4bd5351d50fb8b = L.marker(\n                [28.56230197, -80.57735648],\n                {}\n            ).addTo(marker_cluster_734f8bfbab65a4fb0bf56d9c6e8f4c65);\n        \n    \n            var icon_4fcfa7e4b9076dfa8dc185e256247cf4 = L.AwesomeMarkers.icon(\n                {&quot;extraClasses&quot;: &quot;fa-rotate-0&quot;, &quot;icon&quot;: &quot;info-sign&quot;, &quot;iconColor&quot;: &quot;red&quot;, &quot;markerColor&quot;: &quot;white&quot;, &quot;prefix&quot;: &quot;glyphicon&quot;}\n            );\n            marker_df85b81f048266485f4bd5351d50fb8b.setIcon(icon_4fcfa7e4b9076dfa8dc185e256247cf4);\n        \n    \n            var marker_84a60dcf2d64a4ed06f84fa9804244ea = L.marker(\n                [28.56230197, -80.57735648],\n                {}\n            ).addTo(marker_cluster_734f8bfbab65a4fb0bf56d9c6e8f4c65);\n        \n    \n            var icon_a74170e15c2e6c5dcf3d4c75d46c68a8 = L.AwesomeMarkers.icon(\n                {&quot;extraClasses&quot;: &quot;fa-rotate-0&quot;, &quot;icon&quot;: &quot;info-sign&quot;, &quot;iconColor&quot;: &quot;green&quot;, &quot;markerColor&quot;: &quot;white&quot;, &quot;prefix&quot;: &quot;glyphicon&quot;}\n            );\n            marker_84a60dcf2d64a4ed06f84fa9804244ea.setIcon(icon_a74170e15c2e6c5dcf3d4c75d46c68a8);\n        \n    \n            var marker_0b0cf3d8bedccdf8d454a814a51f3e17 = L.marker(\n                [28.56230197, -80.57735648],\n                {}\n            ).addTo(marker_cluster_734f8bfbab65a4fb0bf56d9c6e8f4c65);\n        \n    \n            var icon_3b4a28dc2154e73f79665a5dcbc1ff6e = L.AwesomeMarkers.icon(\n                {&quot;extraClasses&quot;: &quot;fa-rotate-0&quot;, &quot;icon&quot;: &quot;info-sign&quot;, &quot;iconColor&quot;: &quot;green&quot;, &quot;markerColor&quot;: &quot;white&quot;, &quot;prefix&quot;: &quot;glyphicon&quot;}\n            );\n            marker_0b0cf3d8bedccdf8d454a814a51f3e17.setIcon(icon_3b4a28dc2154e73f79665a5dcbc1ff6e);\n        \n    \n            var marker_de4e0847079999036cc8daf5ea4eeca8 = L.marker(\n                [34.63283416, -120.6107455],\n                {}\n            ).addTo(marker_cluster_734f8bfbab65a4fb0bf56d9c6e8f4c65);\n        \n    \n            var icon_53ef9b9599399562b62d3f67fc4356e0 = L.AwesomeMarkers.icon(\n                {&quot;extraClasses&quot;: &quot;fa-rotate-0&quot;, &quot;icon&quot;: &quot;info-sign&quot;, &quot;iconColor&quot;: &quot;red&quot;, &quot;markerColor&quot;: &quot;white&quot;, &quot;prefix&quot;: &quot;glyphicon&quot;}\n            );\n            marker_de4e0847079999036cc8daf5ea4eeca8.setIcon(icon_53ef9b9599399562b62d3f67fc4356e0);\n        \n    \n            var marker_58e9190635c7c8ddd68521da3201d21c = L.marker(\n                [34.63283416, -120.6107455],\n                {}\n            ).addTo(marker_cluster_734f8bfbab65a4fb0bf56d9c6e8f4c65);\n        \n    \n            var icon_1efdb947b78388c133e46dc8680ea073 = L.AwesomeMarkers.icon(\n                {&quot;extraClasses&quot;: &quot;fa-rotate-0&quot;, &quot;icon&quot;: &quot;info-sign&quot;, &quot;iconColor&quot;: &quot;red&quot;, &quot;markerColor&quot;: &quot;white&quot;, &quot;prefix&quot;: &quot;glyphicon&quot;}\n            );\n            marker_58e9190635c7c8ddd68521da3201d21c.setIcon(icon_1efdb947b78388c133e46dc8680ea073);\n        \n    \n            var marker_144e6b0e2c1ecaf25eb851105ca36094 = L.marker(\n                [34.63283416, -120.6107455],\n                {}\n            ).addTo(marker_cluster_734f8bfbab65a4fb0bf56d9c6e8f4c65);\n        \n    \n            var icon_4ad8e9162060cc9f1ca5cc9045bca458 = L.AwesomeMarkers.icon(\n                {&quot;extraClasses&quot;: &quot;fa-rotate-0&quot;, &quot;icon&quot;: &quot;info-sign&quot;, &quot;iconColor&quot;: &quot;green&quot;, &quot;markerColor&quot;: &quot;white&quot;, &quot;prefix&quot;: &quot;glyphicon&quot;}\n            );\n            marker_144e6b0e2c1ecaf25eb851105ca36094.setIcon(icon_4ad8e9162060cc9f1ca5cc9045bca458);\n        \n    \n            var marker_371f7616fbd788580f49c81de02365ce = L.marker(\n                [34.63283416, -120.6107455],\n                {}\n            ).addTo(marker_cluster_734f8bfbab65a4fb0bf56d9c6e8f4c65);\n        \n    \n            var icon_8694a013f5640f69bc4eaf8ab0388b3e = L.AwesomeMarkers.icon(\n                {&quot;extraClasses&quot;: &quot;fa-rotate-0&quot;, &quot;icon&quot;: &quot;info-sign&quot;, &quot;iconColor&quot;: &quot;green&quot;, &quot;markerColor&quot;: &quot;white&quot;, &quot;prefix&quot;: &quot;glyphicon&quot;}\n            );\n            marker_371f7616fbd788580f49c81de02365ce.setIcon(icon_8694a013f5640f69bc4eaf8ab0388b3e);\n        \n    \n            var marker_7a1cd7a1839df758854b1dec6c48a4a5 = L.marker(\n                [34.63283416, -120.6107455],\n                {}\n            ).addTo(marker_cluster_734f8bfbab65a4fb0bf56d9c6e8f4c65);\n        \n    \n            var icon_b71d2281847bfe6637fcf70a25a3f709 = L.AwesomeMarkers.icon(\n                {&quot;extraClasses&quot;: &quot;fa-rotate-0&quot;, &quot;icon&quot;: &quot;info-sign&quot;, &quot;iconColor&quot;: &quot;green&quot;, &quot;markerColor&quot;: &quot;white&quot;, &quot;prefix&quot;: &quot;glyphicon&quot;}\n            );\n            marker_7a1cd7a1839df758854b1dec6c48a4a5.setIcon(icon_b71d2281847bfe6637fcf70a25a3f709);\n        \n    \n            var marker_ed4b7f02d35ed8b6ebb9cd75b0b7e301 = L.marker(\n                [34.63283416, -120.6107455],\n                {}\n            ).addTo(marker_cluster_734f8bfbab65a4fb0bf56d9c6e8f4c65);\n        \n    \n            var icon_8cf375fef4c77f06322e7581375f3f37 = L.AwesomeMarkers.icon(\n                {&quot;extraClasses&quot;: &quot;fa-rotate-0&quot;, &quot;icon&quot;: &quot;info-sign&quot;, &quot;iconColor&quot;: &quot;green&quot;, &quot;markerColor&quot;: &quot;white&quot;, &quot;prefix&quot;: &quot;glyphicon&quot;}\n            );\n            marker_ed4b7f02d35ed8b6ebb9cd75b0b7e301.setIcon(icon_8cf375fef4c77f06322e7581375f3f37);\n        \n    \n            var marker_692bee43c2636efc8f18d851059f26c9 = L.marker(\n                [34.63283416, -120.6107455],\n                {}\n            ).addTo(marker_cluster_734f8bfbab65a4fb0bf56d9c6e8f4c65);\n        \n    \n            var icon_6fa4fdf9a0d0e8f28b51a7bd93186e6f = L.AwesomeMarkers.icon(\n                {&quot;extraClasses&quot;: &quot;fa-rotate-0&quot;, &quot;icon&quot;: &quot;info-sign&quot;, &quot;iconColor&quot;: &quot;red&quot;, &quot;markerColor&quot;: &quot;white&quot;, &quot;prefix&quot;: &quot;glyphicon&quot;}\n            );\n            marker_692bee43c2636efc8f18d851059f26c9.setIcon(icon_6fa4fdf9a0d0e8f28b51a7bd93186e6f);\n        \n    \n            var marker_b97f800f95755eed1ae5906ecc844ed5 = L.marker(\n                [34.63283416, -120.6107455],\n                {}\n            ).addTo(marker_cluster_734f8bfbab65a4fb0bf56d9c6e8f4c65);\n        \n    \n            var icon_c70fed32a2a35b0db13fb1e650b72ba5 = L.AwesomeMarkers.icon(\n                {&quot;extraClasses&quot;: &quot;fa-rotate-0&quot;, &quot;icon&quot;: &quot;info-sign&quot;, &quot;iconColor&quot;: &quot;red&quot;, &quot;markerColor&quot;: &quot;white&quot;, &quot;prefix&quot;: &quot;glyphicon&quot;}\n            );\n            marker_b97f800f95755eed1ae5906ecc844ed5.setIcon(icon_c70fed32a2a35b0db13fb1e650b72ba5);\n        \n    \n            var marker_dba370637a1ee08d736fc46bb61764ff = L.marker(\n                [34.63283416, -120.6107455],\n                {}\n            ).addTo(marker_cluster_734f8bfbab65a4fb0bf56d9c6e8f4c65);\n        \n    \n            var icon_8d533d5dbf829808d3a97d5dc063d691 = L.AwesomeMarkers.icon(\n                {&quot;extraClasses&quot;: &quot;fa-rotate-0&quot;, &quot;icon&quot;: &quot;info-sign&quot;, &quot;iconColor&quot;: &quot;red&quot;, &quot;markerColor&quot;: &quot;white&quot;, &quot;prefix&quot;: &quot;glyphicon&quot;}\n            );\n            marker_dba370637a1ee08d736fc46bb61764ff.setIcon(icon_8d533d5dbf829808d3a97d5dc063d691);\n        \n    \n            var marker_e02df920b8397eeb908e091f1ec1fa8f = L.marker(\n                [34.63283416, -120.6107455],\n                {}\n            ).addTo(marker_cluster_734f8bfbab65a4fb0bf56d9c6e8f4c65);\n        \n    \n            var icon_48f74c324d0378081aa226d2308f48ea = L.AwesomeMarkers.icon(\n                {&quot;extraClasses&quot;: &quot;fa-rotate-0&quot;, &quot;icon&quot;: &quot;info-sign&quot;, &quot;iconColor&quot;: &quot;red&quot;, &quot;markerColor&quot;: &quot;white&quot;, &quot;prefix&quot;: &quot;glyphicon&quot;}\n            );\n            marker_e02df920b8397eeb908e091f1ec1fa8f.setIcon(icon_48f74c324d0378081aa226d2308f48ea);\n        \n    \n            var marker_6bab0efc1b730d3f5199473ce6f6f679 = L.marker(\n                [28.57325457, -80.64689529],\n                {}\n            ).addTo(marker_cluster_734f8bfbab65a4fb0bf56d9c6e8f4c65);\n        \n    \n            var icon_68da14b5eb9ffd99b080f0f52c220882 = L.AwesomeMarkers.icon(\n                {&quot;extraClasses&quot;: &quot;fa-rotate-0&quot;, &quot;icon&quot;: &quot;info-sign&quot;, &quot;iconColor&quot;: &quot;green&quot;, &quot;markerColor&quot;: &quot;white&quot;, &quot;prefix&quot;: &quot;glyphicon&quot;}\n            );\n            marker_6bab0efc1b730d3f5199473ce6f6f679.setIcon(icon_68da14b5eb9ffd99b080f0f52c220882);\n        \n    \n            var marker_5e18e995b3ea887fcb2cbbcb73c06644 = L.marker(\n                [28.57325457, -80.64689529],\n                {}\n            ).addTo(marker_cluster_734f8bfbab65a4fb0bf56d9c6e8f4c65);\n        \n    \n            var icon_06b4d88062ca2f53f082c77ecdbe97b3 = L.AwesomeMarkers.icon(\n                {&quot;extraClasses&quot;: &quot;fa-rotate-0&quot;, &quot;icon&quot;: &quot;info-sign&quot;, &quot;iconColor&quot;: &quot;red&quot;, &quot;markerColor&quot;: &quot;white&quot;, &quot;prefix&quot;: &quot;glyphicon&quot;}\n            );\n            marker_5e18e995b3ea887fcb2cbbcb73c06644.setIcon(icon_06b4d88062ca2f53f082c77ecdbe97b3);\n        \n    \n            var marker_bd3d6b6e3f010d7f1ee8474215ab29e3 = L.marker(\n                [28.57325457, -80.64689529],\n                {}\n            ).addTo(marker_cluster_734f8bfbab65a4fb0bf56d9c6e8f4c65);\n        \n    \n            var icon_5f1725718a9fcdd6d3e5a14840eb98a9 = L.AwesomeMarkers.icon(\n                {&quot;extraClasses&quot;: &quot;fa-rotate-0&quot;, &quot;icon&quot;: &quot;info-sign&quot;, &quot;iconColor&quot;: &quot;green&quot;, &quot;markerColor&quot;: &quot;white&quot;, &quot;prefix&quot;: &quot;glyphicon&quot;}\n            );\n            marker_bd3d6b6e3f010d7f1ee8474215ab29e3.setIcon(icon_5f1725718a9fcdd6d3e5a14840eb98a9);\n        \n    \n            var marker_307255c8b78329dc1c4392669950d9d3 = L.marker(\n                [28.57325457, -80.64689529],\n                {}\n            ).addTo(marker_cluster_734f8bfbab65a4fb0bf56d9c6e8f4c65);\n        \n    \n            var icon_2e39304d7104b59ad275093f4ccf52fb = L.AwesomeMarkers.icon(\n                {&quot;extraClasses&quot;: &quot;fa-rotate-0&quot;, &quot;icon&quot;: &quot;info-sign&quot;, &quot;iconColor&quot;: &quot;green&quot;, &quot;markerColor&quot;: &quot;white&quot;, &quot;prefix&quot;: &quot;glyphicon&quot;}\n            );\n            marker_307255c8b78329dc1c4392669950d9d3.setIcon(icon_2e39304d7104b59ad275093f4ccf52fb);\n        \n    \n            var marker_c44165f99e8c747dda60460ee5f4bca4 = L.marker(\n                [28.57325457, -80.64689529],\n                {}\n            ).addTo(marker_cluster_734f8bfbab65a4fb0bf56d9c6e8f4c65);\n        \n    \n            var icon_b139ee08d883d663774bf601759b704c = L.AwesomeMarkers.icon(\n                {&quot;extraClasses&quot;: &quot;fa-rotate-0&quot;, &quot;icon&quot;: &quot;info-sign&quot;, &quot;iconColor&quot;: &quot;red&quot;, &quot;markerColor&quot;: &quot;white&quot;, &quot;prefix&quot;: &quot;glyphicon&quot;}\n            );\n            marker_c44165f99e8c747dda60460ee5f4bca4.setIcon(icon_b139ee08d883d663774bf601759b704c);\n        \n    \n            var marker_a43ab867648b8beedeb6a048f540cd9f = L.marker(\n                [28.57325457, -80.64689529],\n                {}\n            ).addTo(marker_cluster_734f8bfbab65a4fb0bf56d9c6e8f4c65);\n        \n    \n            var icon_a7efd266d3135c7f7f2365a4cb8e6150 = L.AwesomeMarkers.icon(\n                {&quot;extraClasses&quot;: &quot;fa-rotate-0&quot;, &quot;icon&quot;: &quot;info-sign&quot;, &quot;iconColor&quot;: &quot;green&quot;, &quot;markerColor&quot;: &quot;white&quot;, &quot;prefix&quot;: &quot;glyphicon&quot;}\n            );\n            marker_a43ab867648b8beedeb6a048f540cd9f.setIcon(icon_a7efd266d3135c7f7f2365a4cb8e6150);\n        \n    \n            var marker_76a9285b28ebe233c9588a593c74379e = L.marker(\n                [28.57325457, -80.64689529],\n                {}\n            ).addTo(marker_cluster_734f8bfbab65a4fb0bf56d9c6e8f4c65);\n        \n    \n            var icon_01e2ad6428a92be2d7d2c3f90b551257 = L.AwesomeMarkers.icon(\n                {&quot;extraClasses&quot;: &quot;fa-rotate-0&quot;, &quot;icon&quot;: &quot;info-sign&quot;, &quot;iconColor&quot;: &quot;green&quot;, &quot;markerColor&quot;: &quot;white&quot;, &quot;prefix&quot;: &quot;glyphicon&quot;}\n            );\n            marker_76a9285b28ebe233c9588a593c74379e.setIcon(icon_01e2ad6428a92be2d7d2c3f90b551257);\n        \n    \n            var marker_ab17495713089d782e245aee5c6f5f37 = L.marker(\n                [28.57325457, -80.64689529],\n                {}\n            ).addTo(marker_cluster_734f8bfbab65a4fb0bf56d9c6e8f4c65);\n        \n    \n            var icon_61a51751f64422c33c3d05157a3711f6 = L.AwesomeMarkers.icon(\n                {&quot;extraClasses&quot;: &quot;fa-rotate-0&quot;, &quot;icon&quot;: &quot;info-sign&quot;, &quot;iconColor&quot;: &quot;red&quot;, &quot;markerColor&quot;: &quot;white&quot;, &quot;prefix&quot;: &quot;glyphicon&quot;}\n            );\n            marker_ab17495713089d782e245aee5c6f5f37.setIcon(icon_61a51751f64422c33c3d05157a3711f6);\n        \n    \n            var marker_944d0e5b771bb550321e3e6d08a7fd54 = L.marker(\n                [28.57325457, -80.64689529],\n                {}\n            ).addTo(marker_cluster_734f8bfbab65a4fb0bf56d9c6e8f4c65);\n        \n    \n            var icon_3b4b43d8ea180787f7585b76cf362a53 = L.AwesomeMarkers.icon(\n                {&quot;extraClasses&quot;: &quot;fa-rotate-0&quot;, &quot;icon&quot;: &quot;info-sign&quot;, &quot;iconColor&quot;: &quot;green&quot;, &quot;markerColor&quot;: &quot;white&quot;, &quot;prefix&quot;: &quot;glyphicon&quot;}\n            );\n            marker_944d0e5b771bb550321e3e6d08a7fd54.setIcon(icon_3b4b43d8ea180787f7585b76cf362a53);\n        \n    \n            var marker_1c27d31f7e6ad563854deba280c80078 = L.marker(\n                [28.57325457, -80.64689529],\n                {}\n            ).addTo(marker_cluster_734f8bfbab65a4fb0bf56d9c6e8f4c65);\n        \n    \n            var icon_bf3f646516945fcdb636e3a30a8b5a93 = L.AwesomeMarkers.icon(\n                {&quot;extraClasses&quot;: &quot;fa-rotate-0&quot;, &quot;icon&quot;: &quot;info-sign&quot;, &quot;iconColor&quot;: &quot;green&quot;, &quot;markerColor&quot;: &quot;white&quot;, &quot;prefix&quot;: &quot;glyphicon&quot;}\n            );\n            marker_1c27d31f7e6ad563854deba280c80078.setIcon(icon_bf3f646516945fcdb636e3a30a8b5a93);\n        \n    \n            var marker_3c08be2cf6d6eacb878cb61d5a067e8a = L.marker(\n                [28.57325457, -80.64689529],\n                {}\n            ).addTo(marker_cluster_734f8bfbab65a4fb0bf56d9c6e8f4c65);\n        \n    \n            var icon_5f095c969656aebf4d49db54beb2dba7 = L.AwesomeMarkers.icon(\n                {&quot;extraClasses&quot;: &quot;fa-rotate-0&quot;, &quot;icon&quot;: &quot;info-sign&quot;, &quot;iconColor&quot;: &quot;green&quot;, &quot;markerColor&quot;: &quot;white&quot;, &quot;prefix&quot;: &quot;glyphicon&quot;}\n            );\n            marker_3c08be2cf6d6eacb878cb61d5a067e8a.setIcon(icon_5f095c969656aebf4d49db54beb2dba7);\n        \n    \n            var marker_33cda670c090f9f7b05e6ec81f330041 = L.marker(\n                [28.57325457, -80.64689529],\n                {}\n            ).addTo(marker_cluster_734f8bfbab65a4fb0bf56d9c6e8f4c65);\n        \n    \n            var icon_5bc1977dd056265e73cfe8b7746a94e4 = L.AwesomeMarkers.icon(\n                {&quot;extraClasses&quot;: &quot;fa-rotate-0&quot;, &quot;icon&quot;: &quot;info-sign&quot;, &quot;iconColor&quot;: &quot;green&quot;, &quot;markerColor&quot;: &quot;white&quot;, &quot;prefix&quot;: &quot;glyphicon&quot;}\n            );\n            marker_33cda670c090f9f7b05e6ec81f330041.setIcon(icon_5bc1977dd056265e73cfe8b7746a94e4);\n        \n    \n            var marker_ed53353579953cbc112b9704e9007eb8 = L.marker(\n                [28.57325457, -80.64689529],\n                {}\n            ).addTo(marker_cluster_734f8bfbab65a4fb0bf56d9c6e8f4c65);\n        \n    \n            var icon_f4d0961ddb836c8582b8f2a6fea82b01 = L.AwesomeMarkers.icon(\n                {&quot;extraClasses&quot;: &quot;fa-rotate-0&quot;, &quot;icon&quot;: &quot;info-sign&quot;, &quot;iconColor&quot;: &quot;green&quot;, &quot;markerColor&quot;: &quot;white&quot;, &quot;prefix&quot;: &quot;glyphicon&quot;}\n            );\n            marker_ed53353579953cbc112b9704e9007eb8.setIcon(icon_f4d0961ddb836c8582b8f2a6fea82b01);\n        \n    \n            var marker_5d886b9fe09e66324f6b125142342073 = L.marker(\n                [28.56319718, -80.57682003],\n                {}\n            ).addTo(marker_cluster_734f8bfbab65a4fb0bf56d9c6e8f4c65);\n        \n    \n            var icon_b06eda4d0453276ceb2c16b09d1b1e2a = L.AwesomeMarkers.icon(\n                {&quot;extraClasses&quot;: &quot;fa-rotate-0&quot;, &quot;icon&quot;: &quot;info-sign&quot;, &quot;iconColor&quot;: &quot;green&quot;, &quot;markerColor&quot;: &quot;white&quot;, &quot;prefix&quot;: &quot;glyphicon&quot;}\n            );\n            marker_5d886b9fe09e66324f6b125142342073.setIcon(icon_b06eda4d0453276ceb2c16b09d1b1e2a);\n        \n    \n            var marker_37570ed13ad1a59de6bf50bd962bd5d8 = L.marker(\n                [28.56319718, -80.57682003],\n                {}\n            ).addTo(marker_cluster_734f8bfbab65a4fb0bf56d9c6e8f4c65);\n        \n    \n            var icon_ca5e36931aef690e60d3b2599e14acb8 = L.AwesomeMarkers.icon(\n                {&quot;extraClasses&quot;: &quot;fa-rotate-0&quot;, &quot;icon&quot;: &quot;info-sign&quot;, &quot;iconColor&quot;: &quot;green&quot;, &quot;markerColor&quot;: &quot;white&quot;, &quot;prefix&quot;: &quot;glyphicon&quot;}\n            );\n            marker_37570ed13ad1a59de6bf50bd962bd5d8.setIcon(icon_ca5e36931aef690e60d3b2599e14acb8);\n        \n    \n            var marker_cf7a8c2e5c776a80f6b5d5577384e0b2 = L.marker(\n                [28.56319718, -80.57682003],\n                {}\n            ).addTo(marker_cluster_734f8bfbab65a4fb0bf56d9c6e8f4c65);\n        \n    \n            var icon_fcae0f0fc76f8d68347ca12ba694a588 = L.AwesomeMarkers.icon(\n                {&quot;extraClasses&quot;: &quot;fa-rotate-0&quot;, &quot;icon&quot;: &quot;info-sign&quot;, &quot;iconColor&quot;: &quot;red&quot;, &quot;markerColor&quot;: &quot;white&quot;, &quot;prefix&quot;: &quot;glyphicon&quot;}\n            );\n            marker_cf7a8c2e5c776a80f6b5d5577384e0b2.setIcon(icon_fcae0f0fc76f8d68347ca12ba694a588);\n        \n    \n            var marker_2dd2e3633c41105bdbc640f1d8f7b8e9 = L.marker(\n                [28.56319718, -80.57682003],\n                {}\n            ).addTo(marker_cluster_734f8bfbab65a4fb0bf56d9c6e8f4c65);\n        \n    \n            var icon_5d2e7c4d9e7ad6b26da5118cade02ba3 = L.AwesomeMarkers.icon(\n                {&quot;extraClasses&quot;: &quot;fa-rotate-0&quot;, &quot;icon&quot;: &quot;info-sign&quot;, &quot;iconColor&quot;: &quot;red&quot;, &quot;markerColor&quot;: &quot;white&quot;, &quot;prefix&quot;: &quot;glyphicon&quot;}\n            );\n            marker_2dd2e3633c41105bdbc640f1d8f7b8e9.setIcon(icon_5d2e7c4d9e7ad6b26da5118cade02ba3);\n        \n    \n            var marker_15e823a45d9c6ad639d30949e3ffe750 = L.marker(\n                [28.56319718, -80.57682003],\n                {}\n            ).addTo(marker_cluster_734f8bfbab65a4fb0bf56d9c6e8f4c65);\n        \n    \n            var icon_09691dbd5178fc28d1af19e07ad86139 = L.AwesomeMarkers.icon(\n                {&quot;extraClasses&quot;: &quot;fa-rotate-0&quot;, &quot;icon&quot;: &quot;info-sign&quot;, &quot;iconColor&quot;: &quot;red&quot;, &quot;markerColor&quot;: &quot;white&quot;, &quot;prefix&quot;: &quot;glyphicon&quot;}\n            );\n            marker_15e823a45d9c6ad639d30949e3ffe750.setIcon(icon_09691dbd5178fc28d1af19e07ad86139);\n        \n    \n            var marker_b4eada0ecce00fb9b5ef6372ae8fe04d = L.marker(\n                [28.56319718, -80.57682003],\n                {}\n            ).addTo(marker_cluster_734f8bfbab65a4fb0bf56d9c6e8f4c65);\n        \n    \n            var icon_e94442c64f716f8b55911b7825376f25 = L.AwesomeMarkers.icon(\n                {&quot;extraClasses&quot;: &quot;fa-rotate-0&quot;, &quot;icon&quot;: &quot;info-sign&quot;, &quot;iconColor&quot;: &quot;green&quot;, &quot;markerColor&quot;: &quot;white&quot;, &quot;prefix&quot;: &quot;glyphicon&quot;}\n            );\n            marker_b4eada0ecce00fb9b5ef6372ae8fe04d.setIcon(icon_e94442c64f716f8b55911b7825376f25);\n        \n    \n            var marker_daaabadadbf1a4d3bc816b9bd6f432c6 = L.marker(\n                [28.56319718, -80.57682003],\n                {}\n            ).addTo(marker_cluster_734f8bfbab65a4fb0bf56d9c6e8f4c65);\n        \n    \n            var icon_b09f233c92cda0f7572431a4baacbe32 = L.AwesomeMarkers.icon(\n                {&quot;extraClasses&quot;: &quot;fa-rotate-0&quot;, &quot;icon&quot;: &quot;info-sign&quot;, &quot;iconColor&quot;: &quot;red&quot;, &quot;markerColor&quot;: &quot;white&quot;, &quot;prefix&quot;: &quot;glyphicon&quot;}\n            );\n            marker_daaabadadbf1a4d3bc816b9bd6f432c6.setIcon(icon_b09f233c92cda0f7572431a4baacbe32);\n        \n    \n            var mouse_position_daff2fe5358adcdaab36db43ee9a007e = new L.Control.MousePosition(\n                {&quot;emptyString&quot;: &quot;NaN&quot;, &quot;lngFirst&quot;: false, &quot;numDigits&quot;: 20, &quot;position&quot;: &quot;topright&quot;, &quot;prefix&quot;: &quot;Lat:&quot;, &quot;separator&quot;: &quot; Long: &quot;}\n            );\n            mouse_position_daff2fe5358adcdaab36db43ee9a007e.options[&quot;latFormatter&quot;] =\n                function(num) {return L.Util.formatNum(num, 5);};;\n            mouse_position_daff2fe5358adcdaab36db43ee9a007e.options[&quot;lngFormatter&quot;] =\n                function(num) {return L.Util.formatNum(num, 5);};;\n            map_4e9d3ad71e1a31c6bdeecbf9c9881401.addControl(mouse_position_daff2fe5358adcdaab36db43ee9a007e);\n        \n&lt;/script&gt;\n&lt;/html&gt;\" style=\"position:absolute;width:100%;height:100%;left:0;top:0;border:none !important;\" allowfullscreen webkitallowfullscreen mozallowfullscreen></iframe></div></div>"
     },
     "metadata": {}
    }
   ]
  },
  {
   "metadata": {},
   "cell_type": "markdown",
   "source": [
    "Now zoom in to a launch site and explore its proximity to see if you can easily find any railway, highway, coastline, etc. Move your mouse to these points and mark down their coordinates (shown on the top-left) in order to the distance to the launch site.\n"
   ]
  },
  {
   "metadata": {},
   "cell_type": "markdown",
   "source": [
    "You can calculate the distance between two points on the map based on their `Lat` and `Long` values using the following method:\n"
   ]
  },
  {
   "metadata": {},
   "cell_type": "code",
   "source": [
    "from math import sin, cos, sqrt, atan2, radians\n",
    "\n",
    "def calculate_distance(lat1, lon1, lat2, lon2):\n",
    "    # approximate radius of earth in km\n",
    "    R = 6373.0\n",
    "\n",
    "    lat1 = radians(lat1)\n",
    "    lon1 = radians(lon1)\n",
    "    lat2 = radians(lat2)\n",
    "    lon2 = radians(lon2)\n",
    "\n",
    "    dlon = lon2 - lon1\n",
    "    dlat = lat2 - lat1\n",
    "\n",
    "    a = sin(dlat / 2)**2 + cos(lat1) * cos(lat2) * sin(dlon / 2)**2\n",
    "    c = 2 * atan2(sqrt(a), sqrt(1 - a))\n",
    "\n",
    "    distance = R * c\n",
    "    return distance"
   ],
   "execution_count": 16,
   "outputs": []
  },
  {
   "metadata": {},
   "cell_type": "markdown",
   "source": [
    "_TODO:_ Mark down a point on the closest coastline using MousePosition and calculate the distance between the coastline point and the launch site.\n"
   ]
  },
  {
   "metadata": {},
   "cell_type": "code",
   "source": [
    "# find coordinate of the closet coastline\n",
    "# e.g.,: Lat: 28.56367  Lon: -80.57163\n",
    "# distance_coastline = calculate_distance(launch_site_lat, launch_site_lon, coastline_lat, coastline_lon)"
   ],
   "execution_count": null,
   "outputs": []
  },
  {
   "metadata": {},
   "cell_type": "markdown",
   "source": [
    "_TODO:_ After obtained its coordinate, create a `folium.Marker` to show the distance\n"
   ]
  },
  {
   "metadata": {},
   "cell_type": "code",
   "source": [
    "# Create and add a folium.Marker on your selected closest coastline point on the map\n",
    "# Display the distance between coastline point and launch site using the icon property \n",
    "# for example\n",
    "# distance_marker = folium.Marker(\n",
    "#    coordinate,\n",
    "#    icon=DivIcon(\n",
    "#        icon_size=(20,20),\n",
    "#        icon_anchor=(0,0),\n",
    "#        html='<div style=\"font-size: 12; color:#d35400;\"><b>%s</b></div>' % \"{:10.2f} KM\".format(distance),\n",
    "#        )\n",
    "#    )"
   ],
   "execution_count": null,
   "outputs": []
  },
  {
   "metadata": {},
   "cell_type": "markdown",
   "source": [
    "_TODO:_ Draw a `PolyLine` between a launch site to the selected coastline point\n"
   ]
  },
  {
   "metadata": {},
   "cell_type": "code",
   "source": [
    "# Create a `folium.PolyLine` object using the coastline coordinates and launch site coordinate\n",
    "# lines=folium.PolyLine(locations=coordinates, weight=1)\n",
    "site_map.add_child(lines)"
   ],
   "execution_count": null,
   "outputs": []
  },
  {
   "metadata": {},
   "cell_type": "markdown",
   "source": [
    "Your updated map with distance line should look like the following screenshot:\n"
   ]
  },
  {
   "metadata": {},
   "cell_type": "markdown",
   "source": [
    "<center>\n",
    "    <img src=\"https://cf-courses-data.s3.us.cloud-object-storage.appdomain.cloud/IBM-DS0321EN-SkillsNetwork/labs/module_3/images/launch_site_marker_distance.png\">\n",
    "</center>\n"
   ]
  },
  {
   "metadata": {},
   "cell_type": "markdown",
   "source": [
    "_TODO:_ Similarly, you can draw a line betwee a launch site to its closest city, railway, highway, etc. You need to use `MousePosition` to find the their coordinates on the map first\n"
   ]
  },
  {
   "metadata": {},
   "cell_type": "markdown",
   "source": [
    "A railway map symbol may look like this:\n"
   ]
  },
  {
   "metadata": {},
   "cell_type": "markdown",
   "source": [
    "<center>\n",
    "    <img src=\"https://cf-courses-data.s3.us.cloud-object-storage.appdomain.cloud/IBM-DS0321EN-SkillsNetwork/labs/module_3/images/railway.png\">\n",
    "</center>\n"
   ]
  },
  {
   "metadata": {},
   "cell_type": "markdown",
   "source": [
    "A highway map symbol may look like this:\n"
   ]
  },
  {
   "metadata": {},
   "cell_type": "markdown",
   "source": [
    "<center>\n",
    "    <img src=\"https://cf-courses-data.s3.us.cloud-object-storage.appdomain.cloud/IBM-DS0321EN-SkillsNetwork/labs/module_3/images/highway.png\">\n",
    "</center>\n"
   ]
  },
  {
   "metadata": {},
   "cell_type": "markdown",
   "source": [
    "A city map symbol may look like this:\n"
   ]
  },
  {
   "metadata": {},
   "cell_type": "markdown",
   "source": [
    "<center>\n",
    "    <img src=\"https://cf-courses-data.s3.us.cloud-object-storage.appdomain.cloud/IBM-DS0321EN-SkillsNetwork/labs/module_3/images/city.png\">\n",
    "</center>\n"
   ]
  },
  {
   "metadata": {},
   "cell_type": "code",
   "source": [
    "# Create a marker with distance to a closest city, railway, highway, etc.\n",
    "# Draw a line between the marker to the launch site\n"
   ],
   "execution_count": null,
   "outputs": []
  },
  {
   "metadata": {},
   "cell_type": "code",
   "source": [],
   "execution_count": null,
   "outputs": []
  },
  {
   "metadata": {},
   "cell_type": "code",
   "source": [],
   "execution_count": null,
   "outputs": []
  },
  {
   "metadata": {},
   "cell_type": "markdown",
   "source": [
    "After you plot distance lines to the proximities, you can answer the following questions easily:\n",
    "- Are launch sites in close proximity to railways?\n",
    "- Are launch sites in close proximity to highways?\n",
    "- Are launch sites in close proximity to coastline?\n",
    "- Do launch sites keep certain distance away from cities?\n",
    "\n",
    "Also please try to explain your findings.\n"
   ]
  },
  {
   "metadata": {},
   "cell_type": "markdown",
   "source": [
    "# Next Steps:\n",
    "\n",
    "Now you have discovered many interesting insights related to the launch sites' location using folium, in a very interactive way. Next, you will need to build a dashboard using Ploty Dash on detailed launch records.\n"
   ]
  },
  {
   "metadata": {},
   "cell_type": "markdown",
   "source": [
    "## Authors\n"
   ]
  },
  {
   "metadata": {},
   "cell_type": "markdown",
   "source": [
    "[Yan Luo](https://www.linkedin.com/in/yan-luo-96288783/?utm_medium=Exinfluencer&utm_source=Exinfluencer&utm_content=000026UJ&utm_term=10006555&utm_id=NA-SkillsNetwork-Channel-SkillsNetworkCoursesIBMDS0321ENSkillsNetwork865-2023-01-01)\n"
   ]
  },
  {
   "metadata": {},
   "cell_type": "markdown",
   "source": [
    "### Other Contributors\n"
   ]
  },
  {
   "metadata": {},
   "cell_type": "markdown",
   "source": [
    "Joseph Santarcangelo\n"
   ]
  },
  {
   "metadata": {},
   "cell_type": "markdown",
   "source": [
    "## Change Log\n"
   ]
  },
  {
   "metadata": {},
   "cell_type": "markdown",
   "source": [
    "|Date (YYYY-MM-DD)|Version|Changed By|Change Description|\n",
    "|-|-|-|-|\n",
    "|2021-05-26|1.0|Yan|Created the initial version|\n"
   ]
  },
  {
   "metadata": {},
   "cell_type": "markdown",
   "source": [
    "Copyright © 2021 IBM Corporation. All rights reserved.\n"
   ]
  }
 ],
 "metadata": {
  "kernelspec": {
   "name": "python3",
   "display_name": "Python 3.10",
   "language": "python"
  },
  "language_info": {
   "name": "python",
   "version": "3.10.13",
   "mimetype": "text/x-python",
   "codemirror_mode": {
    "name": "ipython",
    "version": 3
   },
   "pygments_lexer": "ipython3",
   "nbconvert_exporter": "python",
   "file_extension": ".py"
  }
 },
 "nbformat": 4,
 "nbformat_minor": 4
}
